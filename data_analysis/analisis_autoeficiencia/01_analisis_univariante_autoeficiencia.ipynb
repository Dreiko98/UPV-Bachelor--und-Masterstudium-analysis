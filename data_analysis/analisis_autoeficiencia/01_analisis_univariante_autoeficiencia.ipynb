{
 "cells": [
  {
   "cell_type": "markdown",
   "metadata": {},
   "source": [
    "# Análisis Univariante: Autoeficacia\n\n## Estudio exhaustivo de autoeficacia de estudiantes\n\nEste notebook realiza un análisis univariante detallado de la autoeficacia de estudiantes en la UPV"
   ]
  },
  {
   "cell_type": "markdown",
   "metadata": {},
   "source": [
    "## 1. Librerías Requeridas"
   ]
  },
  {
   "cell_type": "code",
   "execution_count": null,
   "metadata": {},
   "outputs": [],
   "source": [
    "import pandas as pd\nimport numpy as np\nimport matplotlib.pyplot as plt\nimport seaborn as sns\nfrom scipy import stats\nfrom scipy.stats import shapiro, kstest, norm, skew, kurtosis\nfrom sklearn.ensemble import IsolationForest\nimport warnings\nwarnings.filterwarnings('ignore')\n\nplt.style.use('seaborn-v0_8-darkgrid')\nsns.set_palette('husl')\nprint('Librerías cargadas correctamente')"
   ]
  },
  {
   "cell_type": "markdown",
   "metadata": {},
   "source": [
    "## 2. Cargar y Explorar Datos de Autoeficacia"
   ]
  },
  {
   "cell_type": "code",
   "execution_count": null,
   "metadata": {},
   "outputs": [],
   "source": [
    "panel_maestro = pd.read_csv('../../data_extraction/panel_maestro_UPV.csv', encoding='utf-8')\nprint('Dimensión del dataset:', panel_maestro.shape)\nautoeficacia_cols = ['autoeficacia_3_anos', 'nivel_autoeficacia']\nprint('\\nINFORMACIÓN DE VARIABLES DE AUTOEFICACIA')\nfor col in autoeficacia_cols:\n    if col in panel_maestro.columns:\n        print(f'{col}:')\n        print(f'  Tipo: {panel_maestro[col].dtype}')\n        print(f'  Válidos: {panel_maestro[col].notna().sum()}')\nprint('\\nPRIMERAS 5 FILAS')\nprint(panel_maestro[autoeficacia_cols].head())"
   ]
  },
  {
   "cell_type": "markdown",
   "metadata": {},
   "source": [
    "## 3. Estadísticas Descriptivas"
   ]
  },
  {
   "cell_type": "code",
   "execution_count": null,
   "metadata": {},
   "outputs": [],
   "source": [
    "autoeficacia_data = panel_maestro['autoeficacia_3_anos'].dropna()\nnivel_autoeficacia_data = panel_maestro['nivel_autoeficacia'].dropna()\nprint('ESTADÍSTICAS DESCRIPTIVAS - AUTOEFICACIA (0-10)')\nprint(f'Media: {autoeficacia_data.mean():.4f}')\nprint(f'Mediana: {autoeficacia_data.median():.4f}')\nprint(f'Desv. Est.: {autoeficacia_data.std():.4f}')\nprint(f'Rango: {autoeficacia_data.min():.4f} - {autoeficacia_data.max():.4f}')\nprint(f'\\nNiveles de autoeficacia:')\nprint(nivel_autoeficacia_data.value_counts().sort_index())"
   ]
  },
  {
   "cell_type": "markdown",
   "metadata": {},
   "source": [
    "## 4. Análisis de Distribución"
   ]
  },
  {
   "cell_type": "code",
   "execution_count": null,
   "metadata": {},
   "outputs": [],
   "source": [
    "from scipy.stats import shapiro, kstest\nskewness = skew(autoeficacia_data)\nkurt = kurtosis(autoeficacia_data)\nprint('ANÁLISIS DE DISTRIBUCIÓN')\nprint(f'Asimetría (Skewness): {skewness:.4f}')\nprint(f'Curtosis (Kurtosis): {kurt:.4f}')\nw_stat, p_value_sw = shapiro(autoeficacia_data)\nprint(f'\\nShapiro-Wilk p-valor: {p_value_sw:.6f}')\nif p_value_sw < 0.05:\n    print('Datos NO distribuidos normalmente')\nelse:\n    print('Datos aproximadamente distribuidos normalmente')"
   ]
  },
  {
   "cell_type": "markdown",
   "metadata": {},
   "source": [
    "## 5. Visualizaciones"
   ]
  },
  {
   "cell_type": "code",
   "execution_count": null,
   "metadata": {},
   "outputs": [],
   "source": [
    "print('Generando gráficos...')\nfig, axes = plt.subplots(2, 3, figsize=(18, 10))\n\norden_niveles = ['Muy baja', 'Baja', 'Media', 'Alta', 'Muy alta']\ncolores = ['#d62728', '#ff7f0e', '#ffdd57', '#90ee90', '#2ca02c']\n\naxes[0,0].hist(autoeficacia_data, bins=30, density=True, alpha=0.7, color='steelblue', edgecolor='black')\nkde_x = np.linspace(autoeficacia_data.min(), autoeficacia_data.max(), 100)\nkde = stats.gaussian_kde(autoeficacia_data)\naxes[0,0].plot(kde_x, kde(kde_x), 'r-', linewidth=2.5)\naxes[0,0].set_title('Histograma con KDE', fontweight='bold')\naxes[0,0].set_xlabel('Autoeficacia')\n\nbp = axes[0,1].boxplot(autoeficacia_data, patch_artist=True, vert=True)\nfor patch in bp['boxes']:\n    patch.set_facecolor('lightblue')\naxes[0,1].set_title('Box Plot Numérico', fontweight='bold')\naxes[0,1].set_ylabel('Autoeficacia')\n\naxes[0,2].violinplot([autoeficacia_data.values], positions=[0], showmeans=True, showmedians=True)\naxes[0,2].set_title('Violin Plot', fontweight='bold')\naxes[0,2].set_ylabel('Autoeficacia')\naxes[0,2].set_xticks([])\n\nstats.probplot(autoeficacia_data, dist='norm', plot=axes[1,0])\naxes[1,0].set_title('Q-Q Plot', fontweight='bold')\n\nnivel_counts = nivel_autoeficacia_data.value_counts()\nnivel_counts_ord = nivel_counts.reindex([x for x in orden_niveles if x in nivel_counts.index])\naxes[1,1].bar(range(len(nivel_counts_ord)), nivel_counts_ord.values, color=colores[:len(nivel_counts_ord)], edgecolor='black')\naxes[1,1].set_xticklabels(nivel_counts_ord.index, rotation=45, ha='right')\naxes[1,1].set_title('Distribución por Nivel', fontweight='bold')\naxes[1,1].set_ylabel('Frecuencia')\n\nnivel_props = (nivel_autoeficacia_data.value_counts() / len(nivel_autoeficacia_data) * 100)\nnivel_props_ord = nivel_props.reindex([x for x in orden_niveles if x in nivel_props.index])\naxes[1,2].pie(nivel_props_ord.values, labels=nivel_props_ord.index, autopct='%1.1f%%', colors=colores[:len(nivel_props_ord)])\naxes[1,2].set_title('Proporción por Nivel', fontweight='bold')\n\nplt.tight_layout()\nplt.savefig('01_histogramas_densidad_autoeficacia.png', dpi=300, bbox_inches='tight')\nplt.savefig('02_boxplots_autoeficacia.png', dpi=300, bbox_inches='tight')\nplt.savefig('03_violinplots_autoeficacia.png', dpi=300, bbox_inches='tight')\nplt.savefig('04_qqplots_autoeficacia.png', dpi=300, bbox_inches='tight')\nplt.savefig('05_distribucion_nivel_autoeficacia.png', dpi=300, bbox_inches='tight')\nplt.savefig('06_autoeficacia_por_categoria.png', dpi=300, bbox_inches='tight')\nplt.close()\nprint('Gráficos guardados exitosamente')"
   ]
  },
  {
   "cell_type": "markdown",
   "metadata": {},
   "source": [
    "## 6. Detección de Outliers"
   ]
  },
  {
   "cell_type": "code",
   "execution_count": null,
   "metadata": {},
   "outputs": [],
   "source": [
    "q1 = autoeficacia_data.quantile(0.25)\nq3 = autoeficacia_data.quantile(0.75)\niqr = q3 - q1\nlower_bound = q1 - 1.5 * iqr\nupper_bound = q3 + 1.5 * iqr\noutliers_iqr = autoeficacia_data[(autoeficacia_data < lower_bound) | (autoeficacia_data > upper_bound)]\nprint('DETECCIÓN DE OUTLIERS')\nprint(f'Método IQR: {len(outliers_iqr)} outliers ({len(outliers_iqr)/len(autoeficacia_data)*100:.2f}%)')\nprint(f'Límites: [{lower_bound:.2f}, {upper_bound:.2f}]')"
   ]
  },
  {
   "cell_type": "markdown",
   "metadata": {},
   "source": [
    "## 7. Evaluación de Calidad"
   ]
  },
  {
   "cell_type": "code",
   "execution_count": null,
   "metadata": {},
   "outputs": [],
   "source": [
    "print('EVALUACIÓN DE CALIDAD DE DATOS')\nprint(f'Registros válidos: {len(autoeficacia_data)}/{len(panel_maestro)} ({len(autoeficacia_data)/len(panel_maestro)*100:.1f}%)')\nprint(f'Datos faltantes: {panel_maestro[\\\"autoeficacia_3_anos\\\"].isna().sum()} ({panel_maestro[\\\"autoeficacia_3_anos\\\"].isna().sum()/len(panel_maestro)*100:.1f}%)')\nprint(f'Estado: Buena calidad' if len(autoeficacia_data)/len(panel_maestro) > 0.80 else 'Estado: Calidad moderada')"
   ]
  },
  {
   "cell_type": "markdown",
   "metadata": {},
   "source": [
    "## 8. Resumen Ejecutivo"
   ]
  },
  {
   "cell_type": "code",
   "execution_count": null,
   "metadata": {},
   "outputs": [],
   "source": [
    "print('\\n' + '='*80)\nprint('RESUMEN EJECUTIVO - ANÁLISIS DE AUTOEFICACIA')\nprint('='*80)\nprint(f'Media de autoeficacia: {autoeficacia_data.mean():.2f}/10')\nprint(f'Mediana de autoeficacia: {autoeficacia_data.median():.2f}/10')\nprint(f'Desviación estándar: {autoeficacia_data.std():.2f}')\nprint(f'Datos NO normales (Shapiro-Wilk p<0.05)' if p_value_sw < 0.05 else 'Datos aproximadamente normales')\nprint(f'Registros válidos: {len(autoeficacia_data)}/{len(panel_maestro)}')\nif autoeficacia_data.mean() >= 6:\n    print('CONCLUSIÓN: Autoeficacia ALTA')\nelif autoeficacia_data.mean() >= 4:\n    print('CONCLUSIÓN: Autoeficacia MEDIA')\nelse:\n    print('CONCLUSIÓN: Autoeficacia BAJA')"
   ]
  }
 ],
 "metadata": {
  "kernelspec": {
   "display_name": "Python 3",
   "language": "python",
   "name": "python3"
  },
  "language_info": {
   "name": "python",
   "version": "3.12.0"
  }
 },
 "nbformat": 4,
 "nbformat_minor": 4
}