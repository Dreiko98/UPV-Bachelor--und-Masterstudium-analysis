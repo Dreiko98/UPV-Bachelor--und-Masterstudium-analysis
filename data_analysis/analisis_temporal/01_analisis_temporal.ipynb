{
 "cells": [
  {
   "cell_type": "markdown",
   "metadata": {},
   "source": [
    "# 📈 Análisis Temporal: Panel Maestro UPV (2020-2024)\n",
    "\n",
    "**Objetivo:** Analizar evolución temporal de indicadores académicos\n",
    "**Periodo:** 2020 → 2024 (5 años)\n",
    "**Dimensiones:** Satisfacción, Abandono, Autoeficacia, Empleabilidad\n",
    "**Métodos:** Series temporales, tendencias, descomposición estacional"
   ]
  },
  {
   "cell_type": "markdown",
   "metadata": {},
   "source": [
    "## 1. Importar librerías y datos"
   ]
  },
  {
   "cell_type": "code",
   "execution_count": 1,
   "metadata": {
    "execution": {
     "iopub.execute_input": "2025-10-24T09:39:45.532953Z",
     "iopub.status.busy": "2025-10-24T09:39:45.532518Z",
     "iopub.status.idle": "2025-10-24T09:39:46.335962Z",
     "shell.execute_reply": "2025-10-24T09:39:46.335076Z"
    }
   },
   "outputs": [
    {
     "name": "stdout",
     "output_type": "stream",
     "text": [
      "Dataset shape: (483, 16)\n",
      "Periodo: 2020 - 2023\n",
      "Columnas: ['CURSO', 'COD_RUCT', 'TITULACION', 'CENTRO', 'año', 'satisfaccion_alumnos', 'satisfaccion_profesores', 'diferencia_satis', 'satisfaccion_promedio', 'tasa_abandono', 'tasa_permanencia', 'autoeficacia_3_anos', 'nivel_autoeficacia', 'porcentaje_no_desempleados', 'porcentaje_desempleados', 'nivel_empleabilidad']\n"
     ]
    }
   ],
   "source": [
    "import pandas as pd\n",
    "import numpy as np\n",
    "import matplotlib.pyplot as plt\n",
    "import seaborn as sns\n",
    "from scipy import stats\n",
    "from sklearn.preprocessing import StandardScaler\n",
    "import warnings\n",
    "warnings.filterwarnings('ignore')\n",
    "\n",
    "# Configurar estilo\n",
    "plt.style.use('seaborn-v0_8-darkgrid')\n",
    "sns.set_palette('husl')\n",
    "\n",
    "# Cargar datos\n",
    "df = pd.read_csv('../panel_maestro_UPV_LIMPIO.csv')\n",
    "print(f'Dataset shape: {df.shape}')\n",
    "print(f'Periodo: {df[\"año\"].min()} - {df[\"año\"].max()}')\n",
    "print(f'Columnas: {list(df.columns)}')"
   ]
  },
  {
   "cell_type": "markdown",
   "metadata": {},
   "source": [
    "## 2. Preparar datos para análisis temporal"
   ]
  },
  {
   "cell_type": "code",
   "execution_count": 2,
   "metadata": {
    "execution": {
     "iopub.execute_input": "2025-10-24T09:39:46.358241Z",
     "iopub.status.busy": "2025-10-24T09:39:46.357990Z",
     "iopub.status.idle": "2025-10-24T09:39:46.370501Z",
     "shell.execute_reply": "2025-10-24T09:39:46.369944Z"
    }
   },
   "outputs": [
    {
     "name": "stdout",
     "output_type": "stream",
     "text": [
      "\n",
      "=== AGREGADOS ANUALES ===\n",
      "     satisfaccion_alumnos              satisfaccion_profesores               \\\n",
      "                     mean    std count                    mean    std count   \n",
      "año                                                                           \n",
      "2020                6.823  1.516   113                   8.551  0.702   113   \n",
      "2021                7.018  1.382   117                   8.650  0.734   117   \n",
      "2022                6.893  1.419   125                   8.639  0.822   125   \n",
      "2023                6.952  1.491   128                   8.750  0.682   128   \n",
      "\n",
      "     satisfaccion_promedio              tasa_abandono  ... tasa_permanencia  \\\n",
      "                      mean    std count          mean  ...            count   \n",
      "año                                                    ...                    \n",
      "2020                 7.687  0.934   113        12.907  ...              113   \n",
      "2021                 7.840  0.855   117        15.580  ...              117   \n",
      "2022                 7.775  0.882   125        14.461  ...              125   \n",
      "2023                 7.816  0.870   128        15.455  ...              128   \n",
      "\n",
      "     autoeficacia_3_anos              porcentaje_no_desempleados          \\\n",
      "                    mean    std count                       mean     std   \n",
      "año                                                                        \n",
      "2020               5.401  1.713   113                     89.317  15.091   \n",
      "2021               5.776  1.605   117                     94.437   9.940   \n",
      "2022               6.008  1.426   125                     92.576   9.877   \n",
      "2023               5.962  1.560   128                     92.052  10.294   \n",
      "\n",
      "           porcentaje_desempleados                \n",
      "     count                    mean     std count  \n",
      "año                                               \n",
      "2020   113                  10.683  15.091   113  \n",
      "2021   117                   5.563   9.940   117  \n",
      "2022   125                   7.424   9.877   125  \n",
      "2023   128                   7.948  10.294   128  \n",
      "\n",
      "[4 rows x 24 columns]\n"
     ]
    }
   ],
   "source": [
    "# Crear agregados anuales\n",
    "temporal_agg = df.groupby('año')[[\n",
    "    'satisfaccion_alumnos', 'satisfaccion_profesores', 'satisfaccion_promedio',\n",
    "    'tasa_abandono', 'tasa_permanencia',\n",
    "    'autoeficacia_3_anos',\n",
    "    'porcentaje_no_desempleados', 'porcentaje_desempleados'\n",
    "]].agg(['mean', 'std', 'count']).round(3)\n",
    "\n",
    "print('\\n=== AGREGADOS ANUALES ===')\n",
    "print(temporal_agg)"
   ]
  },
  {
   "cell_type": "markdown",
   "metadata": {},
   "source": [
    "## 3. Análisis de tendencias principales"
   ]
  },
  {
   "cell_type": "code",
   "execution_count": 3,
   "metadata": {
    "execution": {
     "iopub.execute_input": "2025-10-24T09:39:46.371911Z",
     "iopub.status.busy": "2025-10-24T09:39:46.371770Z",
     "iopub.status.idle": "2025-10-24T09:39:46.381324Z",
     "shell.execute_reply": "2025-10-24T09:39:46.380727Z"
    }
   },
   "outputs": [
    {
     "name": "stdout",
     "output_type": "stream",
     "text": [
      "\n",
      "=== TENDENCIAS TEMPORALES ===\n",
      "      satisfaccion_alumnos  satisfaccion_profesores  satisfaccion_promedio  \\\n",
      "año                                                                          \n",
      "2020              6.822743                 8.550973               7.686858   \n",
      "2021              7.018325                 8.650260               7.839836   \n",
      "2022              6.893206                 8.638560               7.775269   \n",
      "2023              6.951521                 8.749630               7.815786   \n",
      "\n",
      "      tasa_abandono  autoeficacia_3_anos  porcentaje_no_desempleados  \n",
      "año                                                                   \n",
      "2020      12.906574             5.401341                   89.316807  \n",
      "2021      15.580376             5.776251                   94.436870  \n",
      "2022      14.461098             6.008160                   92.576246  \n",
      "2023      15.454564             5.962203                   92.052078  \n",
      "\n",
      "=== CAMBIO PORCENTUAL AÑO A AÑO ===\n",
      "      satisfaccion_alumnos  satisfaccion_profesores  satisfaccion_promedio  \\\n",
      "año                                                                          \n",
      "2020                   NaN                      NaN                    NaN   \n",
      "2021                  2.87                     1.16                   1.99   \n",
      "2022                 -1.78                    -0.14                  -0.82   \n",
      "2023                  0.85                     1.29                   0.52   \n",
      "\n",
      "      tasa_abandono  autoeficacia_3_anos  porcentaje_no_desempleados  \n",
      "año                                                                   \n",
      "2020            NaN                  NaN                         NaN  \n",
      "2021          20.72                 6.94                        5.73  \n",
      "2022          -7.18                 4.01                       -1.97  \n",
      "2023           6.87                -0.76                       -0.57  \n",
      "\n",
      "=== CAMBIO TOTAL 2020 → 2024 ===\n",
      "satisfaccion_alumnos           1.89\n",
      "satisfaccion_profesores        2.32\n",
      "satisfaccion_promedio          1.68\n",
      "tasa_abandono                 19.74\n",
      "autoeficacia_3_anos           10.38\n",
      "porcentaje_no_desempleados     3.06\n",
      "dtype: float64\n"
     ]
    }
   ],
   "source": [
    "# Calcular promedios anuales para análisis de tendencia\n",
    "series_temporal = df.groupby('año')[[\n",
    "    'satisfaccion_alumnos', 'satisfaccion_profesores', 'satisfaccion_promedio',\n",
    "    'tasa_abandono', 'autoeficacia_3_anos', 'porcentaje_no_desempleados'\n",
    "]].mean()\n",
    "\n",
    "print('\\n=== TENDENCIAS TEMPORALES ===' )\n",
    "print(series_temporal)\n",
    "\n",
    "# Calcular cambio porcentual año a año\n",
    "print('\\n=== CAMBIO PORCENTUAL AÑO A AÑO ===')\n",
    "cambio_pct = series_temporal.pct_change() * 100\n",
    "print(cambio_pct.round(2))\n",
    "\n",
    "# Tendencia general (diff 2020-2024)\n",
    "print('\\n=== CAMBIO TOTAL 2020 → 2024 ===')\n",
    "cambio_total = ((series_temporal.iloc[-1] - series_temporal.iloc[0]) / series_temporal.iloc[0] * 100).round(2)\n",
    "print(cambio_total)"
   ]
  },
  {
   "cell_type": "markdown",
   "metadata": {},
   "source": [
    "## 4. Visualizar tendencias principales"
   ]
  },
  {
   "cell_type": "code",
   "execution_count": 4,
   "metadata": {
    "execution": {
     "iopub.execute_input": "2025-10-24T09:39:46.382594Z",
     "iopub.status.busy": "2025-10-24T09:39:46.382478Z",
     "iopub.status.idle": "2025-10-24T09:39:47.163623Z",
     "shell.execute_reply": "2025-10-24T09:39:47.163042Z"
    }
   },
   "outputs": [
    {
     "name": "stdout",
     "output_type": "stream",
     "text": [
      "✓ Gráfico guardado: 01_tendencias_principales.png\n"
     ]
    }
   ],
   "source": [
    "# Gráfico 1: Evolución de satisfacción\n",
    "fig, axes = plt.subplots(2, 2, figsize=(15, 10), dpi=300)\n",
    "fig.suptitle('Tendencias Principales 2020-2024', fontsize=16, fontweight='bold', y=0.995)\n",
    "\n",
    "# Satisfacción\n",
    "ax = axes[0, 0]\n",
    "series_temporal[['satisfaccion_alumnos', 'satisfaccion_profesores', 'satisfaccion_promedio']].plot(\n",
    "    ax=ax, marker='o', linewidth=2, markersize=8\n",
    ")\n",
    "ax.set_title('Satisfacción (Alumnos/Profesores)', fontweight='bold')\n",
    "ax.set_ylabel('Puntuación (0-10)')\n",
    "ax.set_xlabel('Año')\n",
    "ax.grid(True, alpha=0.3)\n",
    "ax.legend(loc='best', fontsize=9)\n",
    "\n",
    "# Abandono\n",
    "ax = axes[0, 1]\n",
    "series_temporal[['tasa_abandono']].plot(ax=ax, color='red', marker='o', linewidth=2, markersize=8)\n",
    "ax.set_title('Tasa de Abandono', fontweight='bold')\n",
    "ax.set_ylabel('Porcentaje (%)')\n",
    "ax.set_xlabel('Año')\n",
    "ax.grid(True, alpha=0.3)\n",
    "ax.legend(['Abandono'], fontsize=9)\n",
    "\n",
    "# Autoeficacia\n",
    "ax = axes[1, 0]\n",
    "series_temporal[['autoeficacia_3_anos']].plot(ax=ax, color='green', marker='o', linewidth=2, markersize=8)\n",
    "ax.set_title('Autoeficacia (3 años)', fontweight='bold')\n",
    "ax.set_ylabel('Puntuación (0-10)')\n",
    "ax.set_xlabel('Año')\n",
    "ax.grid(True, alpha=0.3)\n",
    "ax.legend(['Autoeficacia'], fontsize=9)\n",
    "\n",
    "# Empleabilidad\n",
    "ax = axes[1, 1]\n",
    "series_temporal[['porcentaje_no_desempleados']].plot(ax=ax, color='purple', marker='o', linewidth=2, markersize=8)\n",
    "ax.set_title('Empleabilidad (% No Desempleados)', fontweight='bold')\n",
    "ax.set_ylabel('Porcentaje (%)')\n",
    "ax.set_xlabel('Año')\n",
    "ax.grid(True, alpha=0.3)\n",
    "ax.legend(['Empleabilidad'], fontsize=9)\n",
    "\n",
    "plt.tight_layout()\n",
    "plt.savefig('01_tendencias_principales.png', dpi=300, bbox_inches='tight')\n",
    "print('✓ Gráfico guardado: 01_tendencias_principales.png')\n",
    "plt.close()"
   ]
  },
  {
   "cell_type": "markdown",
   "metadata": {},
   "source": [
    "## 5. Variabilidad (desviación estándar) a lo largo del tiempo"
   ]
  },
  {
   "cell_type": "code",
   "execution_count": 5,
   "metadata": {
    "execution": {
     "iopub.execute_input": "2025-10-24T09:39:47.164992Z",
     "iopub.status.busy": "2025-10-24T09:39:47.164881Z",
     "iopub.status.idle": "2025-10-24T09:39:47.512110Z",
     "shell.execute_reply": "2025-10-24T09:39:47.511515Z"
    }
   },
   "outputs": [
    {
     "name": "stdout",
     "output_type": "stream",
     "text": [
      "✓ Gráfico guardado: 02_variabilidad_temporal.png\n",
      "\n",
      "=== VARIABILIDAD ANUAL ===\n",
      "      satisfaccion_alumnos  satisfaccion_profesores  tasa_abandono  \\\n",
      "año                                                                  \n",
      "2020                 1.516                    0.702          9.027   \n",
      "2021                 1.382                    0.734         10.356   \n",
      "2022                 1.419                    0.822         11.438   \n",
      "2023                 1.491                    0.682         14.271   \n",
      "\n",
      "      autoeficacia_3_anos  porcentaje_no_desempleados  \n",
      "año                                                    \n",
      "2020                1.713                      15.091  \n",
      "2021                1.605                       9.940  \n",
      "2022                1.426                       9.877  \n",
      "2023                1.560                      10.294  \n"
     ]
    }
   ],
   "source": [
    "# Calcular desviación estándar anual\n",
    "variabilidad = df.groupby('año')[[\n",
    "    'satisfaccion_alumnos', 'satisfaccion_profesores',\n",
    "    'tasa_abandono', 'autoeficacia_3_anos', 'porcentaje_no_desempleados'\n",
    "]].std()\n",
    "\n",
    "# Gráfico de variabilidad\n",
    "fig, ax = plt.subplots(figsize=(12, 6), dpi=300)\n",
    "variabilidad.plot(ax=ax, marker='s', linewidth=2.5, markersize=8)\n",
    "ax.set_title('Variabilidad (Desviación Estándar) 2020-2024', fontsize=14, fontweight='bold')\n",
    "ax.set_ylabel('Desviación Estándar')\n",
    "ax.set_xlabel('Año')\n",
    "ax.grid(True, alpha=0.3)\n",
    "ax.legend(loc='best', fontsize=10)\n",
    "plt.tight_layout()\n",
    "plt.savefig('02_variabilidad_temporal.png', dpi=300, bbox_inches='tight')\n",
    "print('✓ Gráfico guardado: 02_variabilidad_temporal.png')\n",
    "plt.close()\n",
    "\n",
    "print('\\n=== VARIABILIDAD ANUAL ===')\n",
    "print(variabilidad.round(3))"
   ]
  },
  {
   "cell_type": "markdown",
   "metadata": {},
   "source": [
    "## 6. Análisis por CENTRO (evolución comparada)"
   ]
  },
  {
   "cell_type": "code",
   "execution_count": 6,
   "metadata": {
    "execution": {
     "iopub.execute_input": "2025-10-24T09:39:47.513835Z",
     "iopub.status.busy": "2025-10-24T09:39:47.513716Z",
     "iopub.status.idle": "2025-10-24T09:39:47.524609Z",
     "shell.execute_reply": "2025-10-24T09:39:47.524020Z"
    }
   },
   "outputs": [
    {
     "name": "stdout",
     "output_type": "stream",
     "text": [
      "\n",
      "=== INDICADORES POR CENTRO Y AÑO ===\n",
      "                                                         satisfaccion_promedio  \\\n",
      "año  CENTRO                                                                      \n",
      "2020 E. POLITÉCNICA SUPERIOR DE ALCOY                                     7.95   \n",
      "     E.T.S. DE ARQUITECTURA                                               7.15   \n",
      "     E.T.S. DE INGENIERIA DEL DISEÑO                                      7.63   \n",
      "     E.T.S. DE INGENIERÍA DE EDIFICACIÓN                                  8.21   \n",
      "     E.T.S. DE INGENIERÍA INFORMÁTICA                                     7.76   \n",
      "     E.T.S.I. AGRONÓMICA Y DEL MEDIO NATURAL                              6.97   \n",
      "     E.T.S.I. CAMINOS, CANALES Y PUERTOS                                  7.38   \n",
      "     E.T.S.I. DE TELECOMUNICACIÓN                                         7.32   \n",
      "     E.T.S.I. GEODESICA, CARTOGRAFICA Y TOP.                              8.27   \n",
      "     E.T.S.I. INDUSTRIALES                                                7.41   \n",
      "     ESCUELA POLITECNICA SUPERIOR DE GANDIA                               7.60   \n",
      "     FACULTAD DE ADMINISTRACIÓN Y DIRECCIÓN DE EMPRESAS                   8.17   \n",
      "     FACULTAD DE BELLAS ARTES                                             7.42   \n",
      "     UNIDAD DE MÁSTERES UNIVERSITARIOS                                    8.07   \n",
      "2021 E. POLITÉCNICA SUPERIOR DE ALCOY                                     8.06   \n",
      "     E.T.S. DE ARQUITECTURA                                               7.92   \n",
      "     E.T.S. DE INGENIERIA DEL DISEÑO                                      7.71   \n",
      "     E.T.S. DE INGENIERÍA DE EDIFICACIÓN                                  8.50   \n",
      "     E.T.S. DE INGENIERÍA INFORMÁTICA                                     7.70   \n",
      "     E.T.S.I. AGRONÓMICA Y DEL MEDIO NATURAL                              7.59   \n",
      "     E.T.S.I. CAMINOS, CANALES Y PUERTOS                                  7.79   \n",
      "     E.T.S.I. DE TELECOMUNICACIÓN                                         7.82   \n",
      "     E.T.S.I. GEODESICA, CARTOGRAFICA Y TOP.                              8.38   \n",
      "     E.T.S.I. INDUSTRIALES                                                7.69   \n",
      "     ESCUELA POLITECNICA SUPERIOR DE GANDIA                               7.31   \n",
      "     FACULTAD DE ADMINISTRACIÓN Y DIRECCIÓN DE EMPRESAS                   7.81   \n",
      "     FACULTAD DE BELLAS ARTES                                             7.16   \n",
      "     UNIDAD DE MÁSTERES UNIVERSITARIOS                                    8.18   \n",
      "2022 E. POLITÉCNICA SUPERIOR DE ALCOY                                     7.79   \n",
      "     E.T.S. DE ARQUITECTURA                                               7.48   \n",
      "     E.T.S. DE INGENIERIA DEL DISEÑO                                      7.69   \n",
      "     E.T.S. DE INGENIERÍA DE EDIFICACIÓN                                  7.56   \n",
      "     E.T.S. DE INGENIERÍA INFORMÁTICA                                     7.76   \n",
      "     E.T.S.I. AGRONÓMICA Y DEL MEDIO NATURAL                              7.39   \n",
      "     E.T.S.I. CAMINOS, CANALES Y PUERTOS                                  7.68   \n",
      "     E.T.S.I. DE TELECOMUNICACIÓN                                         7.48   \n",
      "     E.T.S.I. GEODESICA, CARTOGRAFICA Y TOP.                              8.45   \n",
      "     E.T.S.I. INDUSTRIALES                                                7.69   \n",
      "     ESCUELA POLITECNICA SUPERIOR DE GANDIA                               7.50   \n",
      "     FACULTAD DE ADMINISTRACIÓN Y DIRECCIÓN DE EMPRESAS                   8.06   \n",
      "     FACULTAD DE BELLAS ARTES                                             7.43   \n",
      "     UNIDAD DE MÁSTERES UNIVERSITARIOS                                    8.22   \n",
      "2023 E. POLITÉCNICA SUPERIOR DE ALCOY                                     7.89   \n",
      "     E.T.S. DE ARQUITECTURA                                               7.67   \n",
      "     E.T.S. DE INGENIERIA AEROESPACIAL Y DISEÑO INDU...                   7.60   \n",
      "     E.T.S. DE INGENIERÍA DE EDIFICACIÓN                                  8.06   \n",
      "     E.T.S. DE INGENIERÍA INFORMÁTICA                                     8.05   \n",
      "     E.T.S.I. AGRONÓMICA Y DEL MEDIO NATURAL                              7.41   \n",
      "     E.T.S.I. CAMINOS, CANALES Y PUERTOS                                  7.68   \n",
      "     E.T.S.I. DE TELECOMUNICACIÓN                                         7.72   \n",
      "     E.T.S.I. GEODESICA, CARTOGRAFICA Y TOP.                              8.46   \n",
      "     E.T.S.I. INDUSTRIALES                                                7.84   \n",
      "     ESCUELA POLITECNICA SUPERIOR DE GANDIA                               7.73   \n",
      "     FACULTAD DE ADMINISTRACIÓN Y DIRECCIÓN DE EMPRESAS                   8.02   \n",
      "     FACULTAD DE BELLAS ARTES                                             7.49   \n",
      "     UNIDAD DE MÁSTERES UNIVERSITARIOS                                    8.03   \n",
      "\n",
      "                                                         tasa_abandono  \\\n",
      "año  CENTRO                                                              \n",
      "2020 E. POLITÉCNICA SUPERIOR DE ALCOY                            13.71   \n",
      "     E.T.S. DE ARQUITECTURA                                       4.85   \n",
      "     E.T.S. DE INGENIERIA DEL DISEÑO                              8.30   \n",
      "     E.T.S. DE INGENIERÍA DE EDIFICACIÓN                         26.52   \n",
      "     E.T.S. DE INGENIERÍA INFORMÁTICA                             6.82   \n",
      "     E.T.S.I. AGRONÓMICA Y DEL MEDIO NATURAL                     11.96   \n",
      "     E.T.S.I. CAMINOS, CANALES Y PUERTOS                         17.85   \n",
      "     E.T.S.I. DE TELECOMUNICACIÓN                                12.06   \n",
      "     E.T.S.I. GEODESICA, CARTOGRAFICA Y TOP.                     21.23   \n",
      "     E.T.S.I. INDUSTRIALES                                       10.02   \n",
      "     ESCUELA POLITECNICA SUPERIOR DE GANDIA                      14.10   \n",
      "     FACULTAD DE ADMINISTRACIÓN Y DIRECCIÓN DE EMPRESAS          19.00   \n",
      "     FACULTAD DE BELLAS ARTES                                     7.98   \n",
      "     UNIDAD DE MÁSTERES UNIVERSITARIOS                           14.48   \n",
      "2021 E. POLITÉCNICA SUPERIOR DE ALCOY                            20.58   \n",
      "     E.T.S. DE ARQUITECTURA                                      13.26   \n",
      "     E.T.S. DE INGENIERIA DEL DISEÑO                              9.78   \n",
      "     E.T.S. DE INGENIERÍA DE EDIFICACIÓN                         28.93   \n",
      "     E.T.S. DE INGENIERÍA INFORMÁTICA                            11.92   \n",
      "     E.T.S.I. AGRONÓMICA Y DEL MEDIO NATURAL                     15.37   \n",
      "     E.T.S.I. CAMINOS, CANALES Y PUERTOS                         26.80   \n",
      "     E.T.S.I. DE TELECOMUNICACIÓN                                 8.34   \n",
      "     E.T.S.I. GEODESICA, CARTOGRAFICA Y TOP.                     37.08   \n",
      "     E.T.S.I. INDUSTRIALES                                       10.80   \n",
      "     ESCUELA POLITECNICA SUPERIOR DE GANDIA                      20.28   \n",
      "     FACULTAD DE ADMINISTRACIÓN Y DIRECCIÓN DE EMPRESAS          17.53   \n",
      "     FACULTAD DE BELLAS ARTES                                    10.70   \n",
      "     UNIDAD DE MÁSTERES UNIVERSITARIOS                           14.12   \n",
      "2022 E. POLITÉCNICA SUPERIOR DE ALCOY                            17.72   \n",
      "     E.T.S. DE ARQUITECTURA                                      12.35   \n",
      "     E.T.S. DE INGENIERIA DEL DISEÑO                              6.83   \n",
      "     E.T.S. DE INGENIERÍA DE EDIFICACIÓN                         29.93   \n",
      "     E.T.S. DE INGENIERÍA INFORMÁTICA                             7.48   \n",
      "     E.T.S.I. AGRONÓMICA Y DEL MEDIO NATURAL                     13.94   \n",
      "     E.T.S.I. CAMINOS, CANALES Y PUERTOS                         21.48   \n",
      "     E.T.S.I. DE TELECOMUNICACIÓN                                10.92   \n",
      "     E.T.S.I. GEODESICA, CARTOGRAFICA Y TOP.                     25.97   \n",
      "     E.T.S.I. INDUSTRIALES                                       15.37   \n",
      "     ESCUELA POLITECNICA SUPERIOR DE GANDIA                      17.19   \n",
      "     FACULTAD DE ADMINISTRACIÓN Y DIRECCIÓN DE EMPRESAS          14.57   \n",
      "     FACULTAD DE BELLAS ARTES                                     9.43   \n",
      "     UNIDAD DE MÁSTERES UNIVERSITARIOS                           14.22   \n",
      "2023 E. POLITÉCNICA SUPERIOR DE ALCOY                            28.52   \n",
      "     E.T.S. DE ARQUITECTURA                                      12.09   \n",
      "     E.T.S. DE INGENIERIA AEROESPACIAL Y DISEÑO INDU...           7.03   \n",
      "     E.T.S. DE INGENIERÍA DE EDIFICACIÓN                         20.27   \n",
      "     E.T.S. DE INGENIERÍA INFORMÁTICA                             9.05   \n",
      "     E.T.S.I. AGRONÓMICA Y DEL MEDIO NATURAL                     14.47   \n",
      "     E.T.S.I. CAMINOS, CANALES Y PUERTOS                         13.73   \n",
      "     E.T.S.I. DE TELECOMUNICACIÓN                                 9.18   \n",
      "     E.T.S.I. GEODESICA, CARTOGRAFICA Y TOP.                     26.35   \n",
      "     E.T.S.I. INDUSTRIALES                                       12.74   \n",
      "     ESCUELA POLITECNICA SUPERIOR DE GANDIA                      19.10   \n",
      "     FACULTAD DE ADMINISTRACIÓN Y DIRECCIÓN DE EMPRESAS          16.00   \n",
      "     FACULTAD DE BELLAS ARTES                                     7.55   \n",
      "     UNIDAD DE MÁSTERES UNIVERSITARIOS                           17.70   \n",
      "\n",
      "                                                         autoeficacia_3_anos  \\\n",
      "año  CENTRO                                                                    \n",
      "2020 E. POLITÉCNICA SUPERIOR DE ALCOY                                   5.80   \n",
      "     E.T.S. DE ARQUITECTURA                                             4.60   \n",
      "     E.T.S. DE INGENIERIA DEL DISEÑO                                    6.43   \n",
      "     E.T.S. DE INGENIERÍA DE EDIFICACIÓN                                5.75   \n",
      "     E.T.S. DE INGENIERÍA INFORMÁTICA                                   6.85   \n",
      "     E.T.S.I. AGRONÓMICA Y DEL MEDIO NATURAL                            5.38   \n",
      "     E.T.S.I. CAMINOS, CANALES Y PUERTOS                                4.35   \n",
      "     E.T.S.I. DE TELECOMUNICACIÓN                                       6.25   \n",
      "     E.T.S.I. GEODESICA, CARTOGRAFICA Y TOP.                            3.75   \n",
      "     E.T.S.I. INDUSTRIALES                                              5.78   \n",
      "     ESCUELA POLITECNICA SUPERIOR DE GANDIA                             4.90   \n",
      "     FACULTAD DE ADMINISTRACIÓN Y DIRECCIÓN DE EMPRESAS                 6.15   \n",
      "     FACULTAD DE BELLAS ARTES                                           3.23   \n",
      "     UNIDAD DE MÁSTERES UNIVERSITARIOS                                  5.19   \n",
      "2021 E. POLITÉCNICA SUPERIOR DE ALCOY                                   6.14   \n",
      "     E.T.S. DE ARQUITECTURA                                             4.82   \n",
      "     E.T.S. DE INGENIERIA DEL DISEÑO                                    6.39   \n",
      "     E.T.S. DE INGENIERÍA DE EDIFICACIÓN                                5.82   \n",
      "     E.T.S. DE INGENIERÍA INFORMÁTICA                                   8.89   \n",
      "     E.T.S.I. AGRONÓMICA Y DEL MEDIO NATURAL                            5.39   \n",
      "     E.T.S.I. CAMINOS, CANALES Y PUERTOS                                5.50   \n",
      "     E.T.S.I. DE TELECOMUNICACIÓN                                       6.99   \n",
      "     E.T.S.I. GEODESICA, CARTOGRAFICA Y TOP.                            5.91   \n",
      "     E.T.S.I. INDUSTRIALES                                              6.72   \n",
      "     ESCUELA POLITECNICA SUPERIOR DE GANDIA                             5.25   \n",
      "     FACULTAD DE ADMINISTRACIÓN Y DIRECCIÓN DE EMPRESAS                 6.11   \n",
      "     FACULTAD DE BELLAS ARTES                                           3.47   \n",
      "     UNIDAD DE MÁSTERES UNIVERSITARIOS                                  5.10   \n",
      "2022 E. POLITÉCNICA SUPERIOR DE ALCOY                                   6.46   \n",
      "     E.T.S. DE ARQUITECTURA                                             4.80   \n",
      "     E.T.S. DE INGENIERIA DEL DISEÑO                                    6.32   \n",
      "     E.T.S. DE INGENIERÍA DE EDIFICACIÓN                                6.04   \n",
      "     E.T.S. DE INGENIERÍA INFORMÁTICA                                   8.10   \n",
      "     E.T.S.I. AGRONÓMICA Y DEL MEDIO NATURAL                            5.48   \n",
      "     E.T.S.I. CAMINOS, CANALES Y PUERTOS                                6.94   \n",
      "     E.T.S.I. DE TELECOMUNICACIÓN                                       6.30   \n",
      "     E.T.S.I. GEODESICA, CARTOGRAFICA Y TOP.                            5.58   \n",
      "     E.T.S.I. INDUSTRIALES                                              6.70   \n",
      "     ESCUELA POLITECNICA SUPERIOR DE GANDIA                             4.32   \n",
      "     FACULTAD DE ADMINISTRACIÓN Y DIRECCIÓN DE EMPRESAS                 5.58   \n",
      "     FACULTAD DE BELLAS ARTES                                           3.69   \n",
      "     UNIDAD DE MÁSTERES UNIVERSITARIOS                                  6.18   \n",
      "2023 E. POLITÉCNICA SUPERIOR DE ALCOY                                   6.05   \n",
      "     E.T.S. DE ARQUITECTURA                                             5.52   \n",
      "     E.T.S. DE INGENIERIA AEROESPACIAL Y DISEÑO INDU...                 6.16   \n",
      "     E.T.S. DE INGENIERÍA DE EDIFICACIÓN                                7.10   \n",
      "     E.T.S. DE INGENIERÍA INFORMÁTICA                                   7.38   \n",
      "     E.T.S.I. AGRONÓMICA Y DEL MEDIO NATURAL                            5.69   \n",
      "     E.T.S.I. CAMINOS, CANALES Y PUERTOS                                5.69   \n",
      "     E.T.S.I. DE TELECOMUNICACIÓN                                       7.51   \n",
      "     E.T.S.I. GEODESICA, CARTOGRAFICA Y TOP.                            7.82   \n",
      "     E.T.S.I. INDUSTRIALES                                              7.04   \n",
      "     ESCUELA POLITECNICA SUPERIOR DE GANDIA                             4.69   \n",
      "     FACULTAD DE ADMINISTRACIÓN Y DIRECCIÓN DE EMPRESAS                 5.78   \n",
      "     FACULTAD DE BELLAS ARTES                                           3.71   \n",
      "     UNIDAD DE MÁSTERES UNIVERSITARIOS                                  5.52   \n",
      "\n",
      "                                                         porcentaje_no_desempleados  \n",
      "año  CENTRO                                                                          \n",
      "2020 E. POLITÉCNICA SUPERIOR DE ALCOY                                         91.72  \n",
      "     E.T.S. DE ARQUITECTURA                                                   97.18  \n",
      "     E.T.S. DE INGENIERIA DEL DISEÑO                                          95.36  \n",
      "     E.T.S. DE INGENIERÍA DE EDIFICACIÓN                                      79.32  \n",
      "     E.T.S. DE INGENIERÍA INFORMÁTICA                                         88.92  \n",
      "     E.T.S.I. AGRONÓMICA Y DEL MEDIO NATURAL                                  82.41  \n",
      "     E.T.S.I. CAMINOS, CANALES Y PUERTOS                                      90.47  \n",
      "     E.T.S.I. DE TELECOMUNICACIÓN                                             98.94  \n",
      "     E.T.S.I. GEODESICA, CARTOGRAFICA Y TOP.                                  90.07  \n",
      "     E.T.S.I. INDUSTRIALES                                                    97.87  \n",
      "     ESCUELA POLITECNICA SUPERIOR DE GANDIA                                   85.39  \n",
      "     FACULTAD DE ADMINISTRACIÓN Y DIRECCIÓN DE EMPRESAS                       92.33  \n",
      "     FACULTAD DE BELLAS ARTES                                                 76.16  \n",
      "     UNIDAD DE MÁSTERES UNIVERSITARIOS                                        84.66  \n",
      "2021 E. POLITÉCNICA SUPERIOR DE ALCOY                                         95.81  \n",
      "     E.T.S. DE ARQUITECTURA                                                   95.21  \n",
      "     E.T.S. DE INGENIERIA DEL DISEÑO                                          97.86  \n",
      "     E.T.S. DE INGENIERÍA DE EDIFICACIÓN                                      85.16  \n",
      "     E.T.S. DE INGENIERÍA INFORMÁTICA                                         99.44  \n",
      "     E.T.S.I. AGRONÓMICA Y DEL MEDIO NATURAL                                  91.79  \n",
      "     E.T.S.I. CAMINOS, CANALES Y PUERTOS                                      88.53  \n",
      "     E.T.S.I. DE TELECOMUNICACIÓN                                             99.32  \n",
      "     E.T.S.I. GEODESICA, CARTOGRAFICA Y TOP.                                 100.00  \n",
      "     E.T.S.I. INDUSTRIALES                                                    97.47  \n",
      "     ESCUELA POLITECNICA SUPERIOR DE GANDIA                                   86.65  \n",
      "     FACULTAD DE ADMINISTRACIÓN Y DIRECCIÓN DE EMPRESAS                      100.00  \n",
      "     FACULTAD DE BELLAS ARTES                                                 79.17  \n",
      "     UNIDAD DE MÁSTERES UNIVERSITARIOS                                        95.68  \n",
      "2022 E. POLITÉCNICA SUPERIOR DE ALCOY                                         95.44  \n",
      "     E.T.S. DE ARQUITECTURA                                                   92.55  \n",
      "     E.T.S. DE INGENIERIA DEL DISEÑO                                          94.62  \n",
      "     E.T.S. DE INGENIERÍA DE EDIFICACIÓN                                      92.82  \n",
      "     E.T.S. DE INGENIERÍA INFORMÁTICA                                         98.53  \n",
      "     E.T.S.I. AGRONÓMICA Y DEL MEDIO NATURAL                                  94.56  \n",
      "     E.T.S.I. CAMINOS, CANALES Y PUERTOS                                      98.26  \n",
      "     E.T.S.I. DE TELECOMUNICACIÓN                                             95.40  \n",
      "     E.T.S.I. GEODESICA, CARTOGRAFICA Y TOP.                                  96.43  \n",
      "     E.T.S.I. INDUSTRIALES                                                    97.28  \n",
      "     ESCUELA POLITECNICA SUPERIOR DE GANDIA                                   85.20  \n",
      "     FACULTAD DE ADMINISTRACIÓN Y DIRECCIÓN DE EMPRESAS                       88.62  \n",
      "     FACULTAD DE BELLAS ARTES                                                 77.36  \n",
      "     UNIDAD DE MÁSTERES UNIVERSITARIOS                                        89.56  \n",
      "2023 E. POLITÉCNICA SUPERIOR DE ALCOY                                         90.91  \n",
      "     E.T.S. DE ARQUITECTURA                                                   87.70  \n",
      "     E.T.S. DE INGENIERIA AEROESPACIAL Y DISEÑO INDU...                       95.04  \n",
      "     E.T.S. DE INGENIERÍA DE EDIFICACIÓN                                      95.46  \n",
      "     E.T.S. DE INGENIERÍA INFORMÁTICA                                         84.09  \n",
      "     E.T.S.I. AGRONÓMICA Y DEL MEDIO NATURAL                                  92.94  \n",
      "     E.T.S.I. CAMINOS, CANALES Y PUERTOS                                      99.28  \n",
      "     E.T.S.I. DE TELECOMUNICACIÓN                                             98.32  \n",
      "     E.T.S.I. GEODESICA, CARTOGRAFICA Y TOP.                                  93.75  \n",
      "     E.T.S.I. INDUSTRIALES                                                    93.25  \n",
      "     ESCUELA POLITECNICA SUPERIOR DE GANDIA                                   83.21  \n",
      "     FACULTAD DE ADMINISTRACIÓN Y DIRECCIÓN DE EMPRESAS                       94.80  \n",
      "     FACULTAD DE BELLAS ARTES                                                 78.20  \n",
      "     UNIDAD DE MÁSTERES UNIVERSITARIOS                                        93.66  \n",
      "\n",
      "Centros identificados: 15\n",
      "1. E. POLITÉCNICA SUPERIOR DE ALCOY (12 programas)\n",
      "2. E.T.S. DE ARQUITECTURA (6 programas)\n",
      "3. E.T.S. DE INGENIERIA AEROESPACIAL Y DISEÑO INDUSTRIAL (12 programas)\n",
      "4. E.T.S. DE INGENIERIA DEL DISEÑO (11 programas)\n",
      "5. E.T.S. DE INGENIERÍA DE EDIFICACIÓN (2 programas)\n",
      "6. E.T.S. DE INGENIERÍA INFORMÁTICA (6 programas)\n",
      "7. E.T.S.I. AGRONÓMICA Y DEL MEDIO NATURAL (11 programas)\n",
      "8. E.T.S.I. CAMINOS, CANALES Y PUERTOS (9 programas)\n",
      "9. E.T.S.I. DE TELECOMUNICACIÓN (7 programas)\n",
      "10. E.T.S.I. GEODESICA, CARTOGRAFICA Y TOP. (2 programas)\n",
      "11. E.T.S.I. INDUSTRIALES (14 programas)\n",
      "12. ESCUELA POLITECNICA SUPERIOR DE GANDIA (11 programas)\n",
      "13. FACULTAD DE ADMINISTRACIÓN Y DIRECCIÓN DE EMPRESAS (6 programas)\n",
      "14. FACULTAD DE BELLAS ARTES (4 programas)\n",
      "15. UNIDAD DE MÁSTERES UNIVERSITARIOS (29 programas)\n"
     ]
    }
   ],
   "source": [
    "# Evolución por centro\n",
    "temporal_centro = df.groupby(['año', 'CENTRO']).agg({\n",
    "    'satisfaccion_promedio': 'mean',\n",
    "    'tasa_abandono': 'mean',\n",
    "    'autoeficacia_3_anos': 'mean',\n",
    "    'porcentaje_no_desempleados': 'mean'\n",
    "}).round(2)\n",
    "\n",
    "print('\\n=== INDICADORES POR CENTRO Y AÑO ===')\n",
    "print(temporal_centro)\n",
    "\n",
    "# Identificar centros\n",
    "centros = df['CENTRO'].unique()\n",
    "print(f'\\nCentros identificados: {len(centros)}')\n",
    "for i, centro in enumerate(sorted(centros), 1):\n",
    "    n_prog = len(df[df['CENTRO'] == centro]['TITULACION'].unique())\n",
    "    print(f'{i}. {centro} ({n_prog} programas)')"
   ]
  },
  {
   "cell_type": "markdown",
   "metadata": {},
   "source": [
    "## 7. Gráfico comparativo por CENTRO"
   ]
  },
  {
   "cell_type": "code",
   "execution_count": 7,
   "metadata": {
    "execution": {
     "iopub.execute_input": "2025-10-24T09:39:47.526480Z",
     "iopub.status.busy": "2025-10-24T09:39:47.526365Z",
     "iopub.status.idle": "2025-10-24T09:39:48.368056Z",
     "shell.execute_reply": "2025-10-24T09:39:48.367350Z"
    }
   },
   "outputs": [
    {
     "name": "stdout",
     "output_type": "stream",
     "text": [
      "✓ Gráfico guardado: 03_evolucion_por_centros.png\n"
     ]
    }
   ],
   "source": [
    "# Seleccionar centros principales (por número de programas)\n",
    "centros_top = df['CENTRO'].value_counts().head(5).index.tolist()\n",
    "df_centros = df[df['CENTRO'].isin(centros_top)]\n",
    "\n",
    "# Gráfico: Satisfacción por centro a lo largo del tiempo\n",
    "fig, axes = plt.subplots(2, 2, figsize=(15, 10), dpi=300)\n",
    "fig.suptitle('Evolución por Centros Principales 2020-2024', fontsize=16, fontweight='bold', y=0.995)\n",
    "\n",
    "# Satisfacción\n",
    "ax = axes[0, 0]\n",
    "for centro in centros_top:\n",
    "    data = df_centros[df_centros['CENTRO'] == centro].groupby('año')['satisfaccion_promedio'].mean()\n",
    "    ax.plot(data.index, data.values, marker='o', label=centro[:20], linewidth=2)\n",
    "ax.set_title('Satisfacción Promedio', fontweight='bold')\n",
    "ax.set_ylabel('Puntuación')\n",
    "ax.set_xlabel('Año')\n",
    "ax.grid(True, alpha=0.3)\n",
    "ax.legend(fontsize=8)\n",
    "\n",
    "# Abandono\n",
    "ax = axes[0, 1]\n",
    "for centro in centros_top:\n",
    "    data = df_centros[df_centros['CENTRO'] == centro].groupby('año')['tasa_abandono'].mean()\n",
    "    ax.plot(data.index, data.values, marker='s', label=centro[:20], linewidth=2)\n",
    "ax.set_title('Tasa Abandono', fontweight='bold')\n",
    "ax.set_ylabel('Porcentaje')\n",
    "ax.set_xlabel('Año')\n",
    "ax.grid(True, alpha=0.3)\n",
    "ax.legend(fontsize=8)\n",
    "\n",
    "# Autoeficacia\n",
    "ax = axes[1, 0]\n",
    "for centro in centros_top:\n",
    "    data = df_centros[df_centros['CENTRO'] == centro].groupby('año')['autoeficacia_3_anos'].mean()\n",
    "    ax.plot(data.index, data.values, marker='^', label=centro[:20], linewidth=2)\n",
    "ax.set_title('Autoeficacia', fontweight='bold')\n",
    "ax.set_ylabel('Puntuación')\n",
    "ax.set_xlabel('Año')\n",
    "ax.grid(True, alpha=0.3)\n",
    "ax.legend(fontsize=8)\n",
    "\n",
    "# Empleabilidad\n",
    "ax = axes[1, 1]\n",
    "for centro in centros_top:\n",
    "    data = df_centros[df_centros['CENTRO'] == centro].groupby('año')['porcentaje_no_desempleados'].mean()\n",
    "    ax.plot(data.index, data.values, marker='D', label=centro[:20], linewidth=2)\n",
    "ax.set_title('Empleabilidad', fontweight='bold')\n",
    "ax.set_ylabel('Porcentaje')\n",
    "ax.set_xlabel('Año')\n",
    "ax.grid(True, alpha=0.3)\n",
    "ax.legend(fontsize=8)\n",
    "\n",
    "plt.tight_layout()\n",
    "plt.savefig('03_evolucion_por_centros.png', dpi=300, bbox_inches='tight')\n",
    "print('✓ Gráfico guardado: 03_evolucion_por_centros.png')\n",
    "plt.close()"
   ]
  },
  {
   "cell_type": "markdown",
   "metadata": {},
   "source": [
    "## 8. Análisis de volatilidad y cambios"
   ]
  },
  {
   "cell_type": "code",
   "execution_count": 8,
   "metadata": {
    "execution": {
     "iopub.execute_input": "2025-10-24T09:39:48.369763Z",
     "iopub.status.busy": "2025-10-24T09:39:48.369576Z",
     "iopub.status.idle": "2025-10-24T09:39:48.645329Z",
     "shell.execute_reply": "2025-10-24T09:39:48.644429Z"
    }
   },
   "outputs": [
    {
     "name": "stdout",
     "output_type": "stream",
     "text": [
      "✓ Gráfico guardado: 04_cambios_ano_a_ano.png\n",
      "\n",
      "=== CAMBIOS AÑO A AÑO ===\n",
      "      satisfaccion_alumnos  satisfaccion_profesores  satisfaccion_promedio  \\\n",
      "año                                                                          \n",
      "2020                   NaN                      NaN                    NaN   \n",
      "2021                 0.196                    0.099                  0.153   \n",
      "2022                -0.125                   -0.012                 -0.065   \n",
      "2023                 0.058                    0.111                  0.041   \n",
      "\n",
      "      tasa_abandono  autoeficacia_3_anos  porcentaje_no_desempleados  \n",
      "año                                                                   \n",
      "2020            NaN                  NaN                         NaN  \n",
      "2021          2.674                0.375                       5.120  \n",
      "2022         -1.119                0.232                      -1.861  \n",
      "2023          0.993               -0.046                      -0.524  \n"
     ]
    }
   ],
   "source": [
    "# Calcular cambios año a año\n",
    "cambios_yoy = series_temporal.diff()\n",
    "\n",
    "fig, ax = plt.subplots(figsize=(12, 6), dpi=300)\n",
    "cambios_yoy.plot(kind='bar', ax=ax, width=0.8)\n",
    "ax.set_title('Cambios Año a Año (Diferencia Absoluta)', fontsize=14, fontweight='bold')\n",
    "ax.set_ylabel('Cambio')\n",
    "ax.set_xlabel('Período')\n",
    "ax.grid(True, alpha=0.3, axis='y')\n",
    "ax.axhline(y=0, color='black', linestyle='-', linewidth=0.5)\n",
    "ax.legend(loc='best', fontsize=9)\n",
    "plt.xticks(rotation=0)\n",
    "plt.tight_layout()\n",
    "plt.savefig('04_cambios_ano_a_ano.png', dpi=300, bbox_inches='tight')\n",
    "print('✓ Gráfico guardado: 04_cambios_ano_a_ano.png')\n",
    "plt.close()\n",
    "\n",
    "print('\\n=== CAMBIOS AÑO A AÑO ===')\n",
    "print(cambios_yoy.round(3))"
   ]
  },
  {
   "cell_type": "markdown",
   "metadata": {},
   "source": [
    "## 9. Correlación entre indicadores en el tiempo"
   ]
  },
  {
   "cell_type": "code",
   "execution_count": 9,
   "metadata": {
    "execution": {
     "iopub.execute_input": "2025-10-24T09:39:48.646920Z",
     "iopub.status.busy": "2025-10-24T09:39:48.646805Z",
     "iopub.status.idle": "2025-10-24T09:39:48.869308Z",
     "shell.execute_reply": "2025-10-24T09:39:48.868367Z"
    }
   },
   "outputs": [
    {
     "name": "stdout",
     "output_type": "stream",
     "text": [
      "\n",
      "=== CORRELACIÓN ENTRE INDICADORES (SERIES ANUALES) ===\n",
      "                            satisfaccion_promedio  tasa_abandono  \\\n",
      "satisfaccion_promedio                       1.000          0.994   \n",
      "tasa_abandono                               0.994          1.000   \n",
      "autoeficacia_3_anos                         0.728          0.745   \n",
      "porcentaje_no_desempleados                  0.926          0.879   \n",
      "\n",
      "                            autoeficacia_3_anos  porcentaje_no_desempleados  \n",
      "satisfaccion_promedio                     0.728                       0.926  \n",
      "tasa_abandono                             0.745                       0.879  \n",
      "autoeficacia_3_anos                       1.000                       0.654  \n",
      "porcentaje_no_desempleados                0.654                       1.000  \n"
     ]
    },
    {
     "name": "stdout",
     "output_type": "stream",
     "text": [
      "\n",
      "✓ Gráfico guardado: 05_correlacion_temporal.png\n"
     ]
    }
   ],
   "source": [
    "# Correlación temporal\n",
    "variables_temp = [\n",
    "    'satisfaccion_promedio', 'tasa_abandono', 'autoeficacia_3_anos', 'porcentaje_no_desempleados'\n",
    "]\n",
    "corr_temporal = series_temporal[variables_temp].corr()\n",
    "\n",
    "print('\\n=== CORRELACIÓN ENTRE INDICADORES (SERIES ANUALES) ===')\n",
    "print(corr_temporal.round(3))\n",
    "\n",
    "# Heatmap de correlaciones\n",
    "fig, ax = plt.subplots(figsize=(8, 6), dpi=300)\n",
    "sns.heatmap(corr_temporal, annot=True, fmt='.3f', cmap='RdBu_r', center=0,\n",
    "            square=True, linewidths=1, cbar_kws={'label': 'Correlación'}, ax=ax,\n",
    "            vmin=-1, vmax=1)\n",
    "ax.set_title('Correlación Temporal entre Indicadores', fontsize=14, fontweight='bold')\n",
    "plt.tight_layout()\n",
    "plt.savefig('05_correlacion_temporal.png', dpi=300, bbox_inches='tight')\n",
    "print('\\n✓ Gráfico guardado: 05_correlacion_temporal.png')\n",
    "plt.close()"
   ]
  },
  {
   "cell_type": "markdown",
   "metadata": {},
   "source": [
    "## 10. Análisis de desempeño por TITULACION (top/bottom)"
   ]
  },
  {
   "cell_type": "code",
   "execution_count": 10,
   "metadata": {
    "execution": {
     "iopub.execute_input": "2025-10-24T09:39:48.871159Z",
     "iopub.status.busy": "2025-10-24T09:39:48.870949Z",
     "iopub.status.idle": "2025-10-24T09:39:48.880938Z",
     "shell.execute_reply": "2025-10-24T09:39:48.880362Z"
    }
   },
   "outputs": [
    {
     "name": "stdout",
     "output_type": "stream",
     "text": [
      "\n",
      "=== MEJORES TITULACIONES (Top 10) ===\n",
      "                                                    satisfaccion_promedio  \\\n",
      "TITULACION                                                                  \n",
      "MÁSTER UNIVERSITARIO EN INGENIERÍA DE ANÁLISIS ...                   8.47   \n",
      "MÁSTER UNIVERSITARIO EN CIBERSEGURIDAD Y CIBERI...                   8.58   \n",
      "MÁSTER UNIVERSITARIO EN INTELIGENCIA ARTIFICIAL...                   8.76   \n",
      "MÁSTER UNIVERSITARIO EN INGENIERÍA Y TECNOLOGÍA...                   8.43   \n",
      "MÁSTER UNIVERSITARIO EN GESTIÓN DE EMPRESAS, PR...                   9.50   \n",
      "MÁSTER UNIVERSITARIO EN LENGUAS Y TECNOLOGÍA                         8.79   \n",
      "MÁSTER UNIVERSITARIO EN SEGURIDAD NUCLEAR Y PRO...                   8.89   \n",
      "MÁSTER UNIVERSITARIO EN INGENIERÍA DEL MANTENIM...                   9.39   \n",
      "MÁSTER UNIVERSITARIO EN COMPUTACIÓN EN LA NUBE ...                   8.31   \n",
      "MÁSTER UNIVERSITARIO EN INGENIERÍA DE SISTEMAS ...                   8.35   \n",
      "\n",
      "                                                    tasa_abandono  \\\n",
      "TITULACION                                                          \n",
      "MÁSTER UNIVERSITARIO EN INGENIERÍA DE ANÁLISIS ...          12.96   \n",
      "MÁSTER UNIVERSITARIO EN CIBERSEGURIDAD Y CIBERI...          11.50   \n",
      "MÁSTER UNIVERSITARIO EN INTELIGENCIA ARTIFICIAL...           7.00   \n",
      "MÁSTER UNIVERSITARIO EN INGENIERÍA Y TECNOLOGÍA...          20.27   \n",
      "MÁSTER UNIVERSITARIO EN GESTIÓN DE EMPRESAS, PR...          18.27   \n",
      "MÁSTER UNIVERSITARIO EN LENGUAS Y TECNOLOGÍA                19.58   \n",
      "MÁSTER UNIVERSITARIO EN SEGURIDAD NUCLEAR Y PRO...          20.18   \n",
      "MÁSTER UNIVERSITARIO EN INGENIERÍA DEL MANTENIM...          15.33   \n",
      "MÁSTER UNIVERSITARIO EN COMPUTACIÓN EN LA NUBE ...          17.81   \n",
      "MÁSTER UNIVERSITARIO EN INGENIERÍA DE SISTEMAS ...          11.55   \n",
      "\n",
      "                                                    autoeficacia_3_anos  \\\n",
      "TITULACION                                                                \n",
      "MÁSTER UNIVERSITARIO EN INGENIERÍA DE ANÁLISIS ...                 8.04   \n",
      "MÁSTER UNIVERSITARIO EN CIBERSEGURIDAD Y CIBERI...                 7.80   \n",
      "MÁSTER UNIVERSITARIO EN INTELIGENCIA ARTIFICIAL...                 7.30   \n",
      "MÁSTER UNIVERSITARIO EN INGENIERÍA Y TECNOLOGÍA...                 7.70   \n",
      "MÁSTER UNIVERSITARIO EN GESTIÓN DE EMPRESAS, PR...                 6.08   \n",
      "MÁSTER UNIVERSITARIO EN LENGUAS Y TECNOLOGÍA                       7.08   \n",
      "MÁSTER UNIVERSITARIO EN SEGURIDAD NUCLEAR Y PRO...                 6.87   \n",
      "MÁSTER UNIVERSITARIO EN INGENIERÍA DEL MANTENIM...                 5.93   \n",
      "MÁSTER UNIVERSITARIO EN COMPUTACIÓN EN LA NUBE ...                 7.61   \n",
      "MÁSTER UNIVERSITARIO EN INGENIERÍA DE SISTEMAS ...                 7.36   \n",
      "\n",
      "                                                    porcentaje_no_desempleados  \\\n",
      "TITULACION                                                                       \n",
      "MÁSTER UNIVERSITARIO EN INGENIERÍA DE ANÁLISIS ...                       95.83   \n",
      "MÁSTER UNIVERSITARIO EN CIBERSEGURIDAD Y CIBERI...                       92.74   \n",
      "MÁSTER UNIVERSITARIO EN INTELIGENCIA ARTIFICIAL...                       97.50   \n",
      "MÁSTER UNIVERSITARIO EN INGENIERÍA Y TECNOLOGÍA...                      100.00   \n",
      "MÁSTER UNIVERSITARIO EN GESTIÓN DE EMPRESAS, PR...                       96.43   \n",
      "MÁSTER UNIVERSITARIO EN LENGUAS Y TECNOLOGÍA                             98.42   \n",
      "MÁSTER UNIVERSITARIO EN SEGURIDAD NUCLEAR Y PRO...                       95.27   \n",
      "MÁSTER UNIVERSITARIO EN INGENIERÍA DEL MANTENIM...                      100.00   \n",
      "MÁSTER UNIVERSITARIO EN COMPUTACIÓN EN LA NUBE ...                       96.16   \n",
      "MÁSTER UNIVERSITARIO EN INGENIERÍA DE SISTEMAS ...                       95.83   \n",
      "\n",
      "                                                    score_desempeño  \n",
      "TITULACION                                                           \n",
      "MÁSTER UNIVERSITARIO EN INGENIERÍA DE ANÁLISIS ...             4.60  \n",
      "MÁSTER UNIVERSITARIO EN CIBERSEGURIDAD Y CIBERI...             4.58  \n",
      "MÁSTER UNIVERSITARIO EN INTELIGENCIA ARTIFICIAL...             4.56  \n",
      "MÁSTER UNIVERSITARIO EN INGENIERÍA Y TECNOLOGÍA...             4.51  \n",
      "MÁSTER UNIVERSITARIO EN GESTIÓN DE EMPRESAS, PR...             4.50  \n",
      "MÁSTER UNIVERSITARIO EN LENGUAS Y TECNOLOGÍA                   4.49  \n",
      "MÁSTER UNIVERSITARIO EN SEGURIDAD NUCLEAR Y PRO...             4.47  \n",
      "MÁSTER UNIVERSITARIO EN INGENIERÍA DEL MANTENIM...             4.46  \n",
      "MÁSTER UNIVERSITARIO EN COMPUTACIÓN EN LA NUBE ...             4.45  \n",
      "MÁSTER UNIVERSITARIO EN INGENIERÍA DE SISTEMAS ...             4.43  \n",
      "\n",
      "=== PEORES TITULACIONES (Bottom 10) ===\n",
      "                                                    satisfaccion_promedio  \\\n",
      "TITULACION                                                                  \n",
      "MÁSTER UNIVERSITARIO EN BIOTECNOLOGÍA MOLECULAR...                   7.06   \n",
      "MÁSTER UNIVERSITARIO EN PRODUCCIÓN ARTÍSTICA                         7.32   \n",
      "MÁSTER UNIVERSITARIO EN POSTPRODUCCIÓN DIGITAL                       7.15   \n",
      "MÁSTER UNIVERSITARIO EN ACUICULTURA                                  7.54   \n",
      "GRADO EN INGENIERÍA FORESTAL Y DEL MEDIO NATURAL                     6.64   \n",
      "GRADO EN DISEÑO Y TECNOLOGÍAS CREATIVAS                              6.89   \n",
      "GRADO EN CONSERVACIÓN Y RESTAURACIÓN DE BIENES ...                   7.56   \n",
      "MÁSTER UNIVERSITARIO EN ENOLOGÍA                                     7.12   \n",
      "MÁSTER UNIVERSITARIO EN GESTIÓN CULTURAL                             6.96   \n",
      "MÁSTER UNIVERSITARIO EN CONSERVACIÓN Y RESTAURA...                   6.74   \n",
      "\n",
      "                                                    tasa_abandono  \\\n",
      "TITULACION                                                          \n",
      "MÁSTER UNIVERSITARIO EN BIOTECNOLOGÍA MOLECULAR...           4.36   \n",
      "MÁSTER UNIVERSITARIO EN PRODUCCIÓN ARTÍSTICA                 9.90   \n",
      "MÁSTER UNIVERSITARIO EN POSTPRODUCCIÓN DIGITAL              13.30   \n",
      "MÁSTER UNIVERSITARIO EN ACUICULTURA                         17.14   \n",
      "GRADO EN INGENIERÍA FORESTAL Y DEL MEDIO NATURAL            40.51   \n",
      "GRADO EN DISEÑO Y TECNOLOGÍAS CREATIVAS                      4.00   \n",
      "GRADO EN CONSERVACIÓN Y RESTAURACIÓN DE BIENES ...          12.65   \n",
      "MÁSTER UNIVERSITARIO EN ENOLOGÍA                            18.48   \n",
      "MÁSTER UNIVERSITARIO EN GESTIÓN CULTURAL                     7.78   \n",
      "MÁSTER UNIVERSITARIO EN CONSERVACIÓN Y RESTAURA...           5.16   \n",
      "\n",
      "                                                    autoeficacia_3_anos  \\\n",
      "TITULACION                                                                \n",
      "MÁSTER UNIVERSITARIO EN BIOTECNOLOGÍA MOLECULAR...                 4.10   \n",
      "MÁSTER UNIVERSITARIO EN PRODUCCIÓN ARTÍSTICA                       3.81   \n",
      "MÁSTER UNIVERSITARIO EN POSTPRODUCCIÓN DIGITAL                     3.99   \n",
      "MÁSTER UNIVERSITARIO EN ACUICULTURA                                3.23   \n",
      "GRADO EN INGENIERÍA FORESTAL Y DEL MEDIO NATURAL                   4.80   \n",
      "GRADO EN DISEÑO Y TECNOLOGÍAS CREATIVAS                            3.83   \n",
      "GRADO EN CONSERVACIÓN Y RESTAURACIÓN DE BIENES ...                 2.61   \n",
      "MÁSTER UNIVERSITARIO EN ENOLOGÍA                                   3.39   \n",
      "MÁSTER UNIVERSITARIO EN GESTIÓN CULTURAL                           3.18   \n",
      "MÁSTER UNIVERSITARIO EN CONSERVACIÓN Y RESTAURA...                 2.34   \n",
      "\n",
      "                                                    porcentaje_no_desempleados  \\\n",
      "TITULACION                                                                       \n",
      "MÁSTER UNIVERSITARIO EN BIOTECNOLOGÍA MOLECULAR...                       90.28   \n",
      "MÁSTER UNIVERSITARIO EN PRODUCCIÓN ARTÍSTICA                             82.59   \n",
      "MÁSTER UNIVERSITARIO EN POSTPRODUCCIÓN DIGITAL                           76.11   \n",
      "MÁSTER UNIVERSITARIO EN ACUICULTURA                                      81.25   \n",
      "GRADO EN INGENIERÍA FORESTAL Y DEL MEDIO NATURAL                         89.66   \n",
      "GRADO EN DISEÑO Y TECNOLOGÍAS CREATIVAS                                  78.89   \n",
      "GRADO EN CONSERVACIÓN Y RESTAURACIÓN DE BIENES ...                       71.60   \n",
      "MÁSTER UNIVERSITARIO EN ENOLOGÍA                                         65.18   \n",
      "MÁSTER UNIVERSITARIO EN GESTIÓN CULTURAL                                 78.12   \n",
      "MÁSTER UNIVERSITARIO EN CONSERVACIÓN Y RESTAURA...                       77.18   \n",
      "\n",
      "                                                    score_desempeño  \n",
      "TITULACION                                                           \n",
      "MÁSTER UNIVERSITARIO EN BIOTECNOLOGÍA MOLECULAR...             3.41  \n",
      "MÁSTER UNIVERSITARIO EN PRODUCCIÓN ARTÍSTICA                   3.39  \n",
      "MÁSTER UNIVERSITARIO EN POSTPRODUCCIÓN DIGITAL                 3.36  \n",
      "MÁSTER UNIVERSITARIO EN ACUICULTURA                            3.32  \n",
      "GRADO EN INGENIERÍA FORESTAL Y DEL MEDIO NATURAL               3.31  \n",
      "GRADO EN DISEÑO Y TECNOLOGÍAS CREATIVAS                        3.28  \n",
      "GRADO EN CONSERVACIÓN Y RESTAURACIÓN DE BIENES ...             3.20  \n",
      "MÁSTER UNIVERSITARIO EN ENOLOGÍA                               3.19  \n",
      "MÁSTER UNIVERSITARIO EN GESTIÓN CULTURAL                       3.16  \n",
      "MÁSTER UNIVERSITARIO EN CONSERVACIÓN Y RESTAURA...             2.93  \n"
     ]
    }
   ],
   "source": [
    "# Identificar mejores y peores titulaciones\n",
    "perf_titulaciones = df.groupby('TITULACION').agg({\n",
    "    'satisfaccion_promedio': 'mean',\n",
    "    'tasa_abandono': 'mean',\n",
    "    'autoeficacia_3_anos': 'mean',\n",
    "    'porcentaje_no_desempleados': 'mean'\n",
    "}).round(2)\n",
    "\n",
    "# Calcular score de desempeño\n",
    "perf_titulaciones['score_desempeño'] = (\n",
    "    perf_titulaciones['satisfaccion_promedio'] * 0.3 +\n",
    "    (100 - perf_titulaciones['tasa_abandono']) * 0.3 / 100 +\n",
    "    perf_titulaciones['autoeficacia_3_anos'] * 0.2 +\n",
    "    perf_titulaciones['porcentaje_no_desempleados'] * 0.2 / 100\n",
    ").round(2)\n",
    "\n",
    "perf_titulaciones_sorted = perf_titulaciones.sort_values('score_desempeño', ascending=False)\n",
    "\n",
    "print('\\n=== MEJORES TITULACIONES (Top 10) ===')\n",
    "print(perf_titulaciones_sorted.head(10))\n",
    "\n",
    "print('\\n=== PEORES TITULACIONES (Bottom 10) ===')\n",
    "print(perf_titulaciones_sorted.tail(10))"
   ]
  },
  {
   "cell_type": "markdown",
   "metadata": {},
   "source": [
    "## 11. Movilidad entre clusters a lo largo del tiempo"
   ]
  },
  {
   "cell_type": "code",
   "execution_count": 11,
   "metadata": {
    "execution": {
     "iopub.execute_input": "2025-10-24T09:39:48.882669Z",
     "iopub.status.busy": "2025-10-24T09:39:48.882474Z",
     "iopub.status.idle": "2025-10-24T09:39:49.002333Z",
     "shell.execute_reply": "2025-10-24T09:39:49.001792Z"
    }
   },
   "outputs": [
    {
     "name": "stdout",
     "output_type": "stream",
     "text": [
      "2020: Cluster promedio = 0.91\n",
      "2021: Cluster promedio = 1.08\n",
      "2022: Cluster promedio = 0.86\n",
      "2023: Cluster promedio = 0.59\n",
      "\n",
      "✓ Análisis de clusters por año completado\n"
     ]
    }
   ],
   "source": [
    "# Cargar clusters previos si existen, sino crear nuevos\n",
    "from sklearn.cluster import KMeans\n",
    "from sklearn.preprocessing import StandardScaler\n",
    "\n",
    "# Variables para clustering temporal\n",
    "features = ['satisfaccion_promedio', 'tasa_abandono', 'autoeficacia_3_anos', 'porcentaje_no_desempleados']\n",
    "\n",
    "# Crear clusters para cada año\n",
    "clusters_por_año = {}\n",
    "for año in sorted(df['año'].unique()):\n",
    "    df_año = df[df['año'] == año][features].dropna()\n",
    "    \n",
    "    # Estandarizar\n",
    "    scaler = StandardScaler()\n",
    "    features_scaled = scaler.fit_transform(df_año)\n",
    "    \n",
    "    # K-means\n",
    "    kmeans = KMeans(n_clusters=3, random_state=42, n_init=10)\n",
    "    clusters = kmeans.fit_predict(features_scaled)\n",
    "    \n",
    "    clusters_por_año[año] = clusters.mean()  # Valor promedio de cluster\n",
    "    \n",
    "    print(f'{año}: Cluster promedio = {clusters.mean():.2f}')\n",
    "\n",
    "print('\\n✓ Análisis de clusters por año completado')"
   ]
  },
  {
   "cell_type": "markdown",
   "metadata": {},
   "source": [
    "## 12. Heatmap de indicadores por año"
   ]
  },
  {
   "cell_type": "code",
   "execution_count": 12,
   "metadata": {
    "execution": {
     "iopub.execute_input": "2025-10-24T09:39:49.006329Z",
     "iopub.status.busy": "2025-10-24T09:39:49.006117Z",
     "iopub.status.idle": "2025-10-24T09:39:49.242087Z",
     "shell.execute_reply": "2025-10-24T09:39:49.240871Z"
    }
   },
   "outputs": [
    {
     "name": "stdout",
     "output_type": "stream",
     "text": [
      "✓ Gráfico guardado: 06_heatmap_temporal.png\n"
     ]
    }
   ],
   "source": [
    "# Crear matriz para heatmap\n",
    "heatmap_data = series_temporal[variables_temp].T\n",
    "\n",
    "# Normalizar a escala 0-1 para mejor visualización\n",
    "scaler = StandardScaler()\n",
    "heatmap_normalized = pd.DataFrame(\n",
    "    scaler.fit_transform(heatmap_data.T).T,\n",
    "    index=heatmap_data.index,\n",
    "    columns=heatmap_data.columns\n",
    ")\n",
    "\n",
    "fig, ax = plt.subplots(figsize=(10, 5), dpi=300)\n",
    "sns.heatmap(heatmap_normalized, annot=series_temporal[variables_temp].T.round(2),\n",
    "            fmt='g', cmap='RdYlGn', center=0, linewidths=1,\n",
    "            cbar_kws={'label': 'Desviación Estándar'}, ax=ax)\n",
    "ax.set_title('Evolución Temporal de Indicadores (2020-2024)', fontsize=14, fontweight='bold')\n",
    "ax.set_xlabel('Año')\n",
    "ax.set_ylabel('Indicador')\n",
    "plt.tight_layout()\n",
    "plt.savefig('06_heatmap_temporal.png', dpi=300, bbox_inches='tight')\n",
    "print('✓ Gráfico guardado: 06_heatmap_temporal.png')\n",
    "plt.close()"
   ]
  },
  {
   "cell_type": "markdown",
   "metadata": {},
   "source": [
    "## 13. Exportar resultados a CSV"
   ]
  },
  {
   "cell_type": "code",
   "execution_count": 13,
   "metadata": {
    "execution": {
     "iopub.execute_input": "2025-10-24T09:39:49.243903Z",
     "iopub.status.busy": "2025-10-24T09:39:49.243773Z",
     "iopub.status.idle": "2025-10-24T09:39:49.249255Z",
     "shell.execute_reply": "2025-10-24T09:39:49.248704Z"
    }
   },
   "outputs": [
    {
     "name": "stdout",
     "output_type": "stream",
     "text": [
      "✓ Exportado: series_temporal_principal.csv\n",
      "✓ Exportado: cambios_ano_a_ano.csv\n",
      "✓ Exportado: variabilidad_anual.csv\n",
      "✓ Exportado: correlaciones_temporal.csv\n",
      "✓ Exportado: desempeño_titulaciones.csv\n",
      "\n",
      "=== ANÁLISIS TEMPORAL COMPLETADO ===\n",
      "Archivos generados:\n",
      "  - 6 gráficos PNG (300 DPI)\n",
      "  - 5 archivos CSV\n"
     ]
    }
   ],
   "source": [
    "# Exportar series temporal\n",
    "series_temporal.to_csv('series_temporal_principal.csv')\n",
    "print('✓ Exportado: series_temporal_principal.csv')\n",
    "\n",
    "# Exportar cambios año a año\n",
    "cambios_yoy.to_csv('cambios_ano_a_ano.csv')\n",
    "print('✓ Exportado: cambios_ano_a_ano.csv')\n",
    "\n",
    "# Exportar variabilidad\n",
    "variabilidad.to_csv('variabilidad_anual.csv')\n",
    "print('✓ Exportado: variabilidad_anual.csv')\n",
    "\n",
    "# Exportar correlaciones\n",
    "corr_temporal.to_csv('correlaciones_temporal.csv')\n",
    "print('✓ Exportado: correlaciones_temporal.csv')\n",
    "\n",
    "# Exportar desempeño titulaciones\n",
    "perf_titulaciones_sorted.to_csv('desempeño_titulaciones.csv')\n",
    "print('✓ Exportado: desempeño_titulaciones.csv')\n",
    "\n",
    "print('\\n=== ANÁLISIS TEMPORAL COMPLETADO ===')\n",
    "print('Archivos generados:')\n",
    "print('  - 6 gráficos PNG (300 DPI)')\n",
    "print('  - 5 archivos CSV')"
   ]
  }
 ],
 "metadata": {
  "kernelspec": {
   "display_name": "Python 3",
   "language": "python",
   "name": "python3"
  },
  "language_info": {
   "codemirror_mode": {
    "name": "ipython",
    "version": 3
   },
   "file_extension": ".py",
   "mimetype": "text/x-python",
   "name": "python",
   "nbconvert_exporter": "python",
   "pygments_lexer": "ipython3",
   "version": "3.12.3"
  }
 },
 "nbformat": 4,
 "nbformat_minor": 4
}
