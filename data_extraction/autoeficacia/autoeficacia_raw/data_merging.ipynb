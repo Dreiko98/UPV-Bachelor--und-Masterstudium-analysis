{
 "cells": [
  {
   "cell_type": "markdown",
   "id": "33e4b995",
   "metadata": {},
   "source": [
    "# Unificación de Datos de Autoeficacia UPV\n",
    "\n",
    "En este notebook vamos a unificar todos los datos de autoeficacia de los años 2021-2024, creando un panel de datos con una sola estructura final.\n",
    "\n",
    "La autoeficacia se refiere a la confianza de los estudiantes en su capacidad para completar sus estudios en el tiempo esperado."
   ]
  },
  {
   "cell_type": "markdown",
   "id": "496d9ecc",
   "metadata": {},
   "source": [
    "## 1. Cargar y Explorar Datos de Autoeficacia"
   ]
  },
  {
   "cell_type": "code",
   "execution_count": 1,
   "id": "e38d4043",
   "metadata": {},
   "outputs": [
    {
     "name": "stdout",
     "output_type": "stream",
     "text": [
      "✅ Datos de autoeficacia cargados correctamente\n",
      "\n",
      "2021: (97, 5)\n",
      "2022: (98, 5)\n",
      "2023: (100, 5)\n",
      "2024: (98, 5)\n"
     ]
    }
   ],
   "source": [
    "import pandas as pd\n",
    "\n",
    "# Cargar todos los archivos de autoeficacia\n",
    "autoeficacia21 = pd.read_csv('autoeficacia_2021.csv', sep=';', encoding='latin-1')\n",
    "autoeficacia22 = pd.read_csv('autoeficacia_2022.csv', sep=';', encoding='latin-1')\n",
    "autoeficacia23 = pd.read_csv('autoeficacia_2023.csv', sep=';', encoding='latin-1')\n",
    "autoeficacia24 = pd.read_csv('autoeficacia_2024.csv', sep=';', encoding='latin-1')\n",
    "\n",
    "print(\"✅ Datos de autoeficacia cargados correctamente\")\n",
    "print(f\"\\n2021: {autoeficacia21.shape}\")\n",
    "print(f\"2022: {autoeficacia22.shape}\")\n",
    "print(f\"2023: {autoeficacia23.shape}\")\n",
    "print(f\"2024: {autoeficacia24.shape}\")"
   ]
  },
  {
   "cell_type": "code",
   "execution_count": 3,
   "id": "26f55a38",
   "metadata": {},
   "outputs": [
    {
     "name": "stdout",
     "output_type": "stream",
     "text": [
      "=== ESTRUCTURA DE DATOS DE AUTOEFICACIA ===\n",
      "\n",
      "--- Autoeficacia 2021 ---\n",
      "Shape: (97, 5)\n",
      "Columnas: ['CURSO', 'COD_RUCT', 'TITULACION', 'CENTRO', 'AUTOEFICACIA_3_ANYOS']\n",
      "Tipos de datos: {'CURSO': dtype('O'), 'COD_RUCT': dtype('int64'), 'TITULACION': dtype('O'), 'CENTRO': dtype('O'), 'AUTOEFICACIA_3_ANYOS': dtype('float64')}\n",
      "Sample:\n",
      "     CURSO  COD_RUCT                         TITULACION  \\\n",
      "0  2020-21   2500739      GRADO EN ARQUITECTURA TÉCNICA   \n",
      "1  2020-21   2500801      GRADO EN CIENCIAS AMBIENTALES   \n",
      "2  2020-21   2501354  GRADO EN COMUNICACIÓN AUDIOVISUAL   \n",
      "\n",
      "                                   CENTRO  AUTOEFICACIA_3_ANYOS  \n",
      "0     E.T.S. DE INGENIERÍA DE EDIFICACIÓN                   5.8  \n",
      "1  ESCUELA POLITECNICA SUPERIOR DE GANDIA                   4.5  \n",
      "2  ESCUELA POLITECNICA SUPERIOR DE GANDIA                   4.0  \n",
      "\n",
      "--- Autoeficacia 2022 ---\n",
      "Shape: (98, 5)\n",
      "Columnas: ['CURSO', 'COD_RUCT', 'TITULACION', 'CENTRO', 'AUTOEFICACIA_3_ANYOS']\n",
      "Tipos de datos: {'CURSO': dtype('O'), 'COD_RUCT': dtype('int64'), 'TITULACION': dtype('O'), 'CENTRO': dtype('O'), 'AUTOEFICACIA_3_ANYOS': dtype('O')}\n",
      "Sample:\n",
      "     CURSO  COD_RUCT                         TITULACION  \\\n",
      "0  2021-22   2500739      GRADO EN ARQUITECTURA TÉCNICA   \n",
      "1  2021-22   2500801      GRADO EN CIENCIAS AMBIENTALES   \n",
      "2  2021-22   2501354  GRADO EN COMUNICACIÓN AUDIOVISUAL   \n",
      "\n",
      "                                   CENTRO AUTOEFICACIA_3_ANYOS  \n",
      "0     E.T.S. DE INGENIERÍA DE EDIFICACIÓN             6,430000  \n",
      "1  ESCUELA POLITECNICA SUPERIOR DE GANDIA             5,680000  \n",
      "2  ESCUELA POLITECNICA SUPERIOR DE GANDIA             4,140000  \n",
      "\n",
      "--- Autoeficacia 2023 ---\n",
      "Shape: (100, 5)\n",
      "Columnas: ['CURSO', 'COD_RUCT', 'TITULACION', 'CENTRO', 'AUTOEFICACIA_3_ANYOS']\n",
      "Tipos de datos: {'CURSO': dtype('O'), 'COD_RUCT': dtype('int64'), 'TITULACION': dtype('O'), 'CENTRO': dtype('O'), 'AUTOEFICACIA_3_ANYOS': dtype('O')}\n",
      "Sample:\n",
      "     CURSO  COD_RUCT                         TITULACION  \\\n",
      "0  2022-23   2500739      GRADO EN ARQUITECTURA TÉCNICA   \n",
      "1  2022-23   2500801      GRADO EN CIENCIAS AMBIENTALES   \n",
      "2  2022-23   2501354  GRADO EN COMUNICACIÓN AUDIOVISUAL   \n",
      "\n",
      "                                   CENTRO AUTOEFICACIA_3_ANYOS  \n",
      "0     E.T.S. DE INGENIERÍA DE EDIFICACIÓN             6,830000  \n",
      "1  ESCUELA POLITECNICA SUPERIOR DE GANDIA             5,480000  \n",
      "2  ESCUELA POLITECNICA SUPERIOR DE GANDIA             3,970000  \n",
      "\n",
      "--- Autoeficacia 2024 ---\n",
      "Shape: (98, 5)\n",
      "Columnas: ['CURSO', 'COD_RUCT', 'TITULACION', 'CENTRO', 'AUTOEFICACIA_3_ANYOS']\n",
      "Tipos de datos: {'CURSO': dtype('O'), 'COD_RUCT': dtype('int64'), 'TITULACION': dtype('O'), 'CENTRO': dtype('O'), 'AUTOEFICACIA_3_ANYOS': dtype('O')}\n",
      "Sample:\n",
      "     CURSO  COD_RUCT                         TITULACION  \\\n",
      "0  2023-24   2500739      GRADO EN ARQUITECTURA TÉCNICA   \n",
      "1  2023-24   2500801      GRADO EN CIENCIAS AMBIENTALES   \n",
      "2  2023-24   2501354  GRADO EN COMUNICACIÓN AUDIOVISUAL   \n",
      "\n",
      "                                   CENTRO AUTOEFICACIA_3_ANYOS  \n",
      "0     E.T.S. DE INGENIERÍA DE EDIFICACIÓN             6,650000  \n",
      "1  ESCUELA POLITECNICA SUPERIOR DE GANDIA             4,520000  \n",
      "2  ESCUELA POLITECNICA SUPERIOR DE GANDIA             5,210000  \n"
     ]
    }
   ],
   "source": [
    "# Explorar la estructura de todos los datasets\n",
    "print(\"=== ESTRUCTURA DE DATOS DE AUTOEFICACIA ===\")\n",
    "datasets_autoeficacia = [\n",
    "    (\"2021\", autoeficacia21),\n",
    "    (\"2022\", autoeficacia22), \n",
    "    (\"2023\", autoeficacia23),\n",
    "    (\"2024\", autoeficacia24)\n",
    "]\n",
    "\n",
    "for year, df in datasets_autoeficacia:\n",
    "    print(f\"\\n--- Autoeficacia {year} ---\")\n",
    "    print(f\"Shape: {df.shape}\")\n",
    "    print(f\"Columnas: {list(df.columns)}\")\n",
    "    print(f\"Tipos de datos: {dict(df.dtypes)}\")\n",
    "    print(f\"Sample:\")\n",
    "    print(df.head(3))"
   ]
  },
  {
   "cell_type": "markdown",
   "id": "f9f59280",
   "metadata": {},
   "source": [
    "## 2. Analizar Estructura y Columnas"
   ]
  },
  {
   "cell_type": "code",
   "execution_count": 4,
   "id": "63b86af1",
   "metadata": {},
   "outputs": [
    {
     "name": "stdout",
     "output_type": "stream",
     "text": [
      "=== ANÁLISIS DE COLUMNAS ===\n",
      "¿Todas las tablas de autoeficacia tienen las mismas columnas? True\n",
      "\n",
      "Columnas comunes: ['CURSO', 'COD_RUCT', 'TITULACION', 'CENTRO', 'AUTOEFICACIA_3_ANYOS']\n",
      "\n",
      "=== VALORES FALTANTES ===\n",
      "Autoeficacia 2021: 0 valores faltantes\n",
      "Autoeficacia 2022: 0 valores faltantes\n",
      "Autoeficacia 2023: 0 valores faltantes\n",
      "Autoeficacia 2024: 0 valores faltantes\n"
     ]
    }
   ],
   "source": [
    "# Análisis específico de columnas\n",
    "print(\"=== ANÁLISIS DE COLUMNAS ===\")\n",
    "\n",
    "# Verificar si todas las tablas tienen las mismas columnas\n",
    "autoeficacia_columns = [set(df.columns) for _, df in datasets_autoeficacia]\n",
    "all_same = len(set(frozenset(s) for s in autoeficacia_columns)) == 1\n",
    "print(f\"¿Todas las tablas de autoeficacia tienen las mismas columnas? {all_same}\")\n",
    "\n",
    "if all_same:\n",
    "    print(f\"\\nColumnas comunes: {list(autoeficacia21.columns)}\")\n",
    "else:\n",
    "    print(\"\\nColumnas por año:\")\n",
    "    for year, cols in zip([\"2021\", \"2022\", \"2023\", \"2024\"], autoeficacia_columns):\n",
    "        print(f\"  {year}: {list(cols)}\")\n",
    "\n",
    "# Verificar valores faltantes\n",
    "print(\"\\n=== VALORES FALTANTES ===\")\n",
    "for year, df in datasets_autoeficacia:\n",
    "    missing = df.isnull().sum().sum()\n",
    "    print(f\"Autoeficacia {year}: {missing} valores faltantes\")"
   ]
  },
  {
   "cell_type": "markdown",
   "id": "b8ea4b86",
   "metadata": {},
   "source": [
    "## 3. Concatenar Datasets Anuales"
   ]
  },
  {
   "cell_type": "code",
   "execution_count": 5,
   "id": "66430164",
   "metadata": {},
   "outputs": [
    {
     "name": "stdout",
     "output_type": "stream",
     "text": [
      "Dataset de autoeficacia unificado:\n",
      "Shape: (393, 5)\n",
      "Años únicos: ['2020-21', '2021-22', '2022-23', '2023-24']\n",
      "\n",
      "Primeras filas:\n",
      "     CURSO  COD_RUCT                                         TITULACION  \\\n",
      "0  2020-21   2500739                      GRADO EN ARQUITECTURA TÉCNICA   \n",
      "1  2020-21   2500801                      GRADO EN CIENCIAS AMBIENTALES   \n",
      "2  2020-21   2501354                  GRADO EN COMUNICACIÓN AUDIOVISUAL   \n",
      "3  2020-21   2501355                                   GRADO EN TURISMO   \n",
      "4  2020-21   2501356  GRADO EN INGENIERÍA EN DISEÑO INDUSTRIAL Y DES...   \n",
      "\n",
      "                                   CENTRO AUTOEFICACIA_3_ANYOS  \n",
      "0     E.T.S. DE INGENIERÍA DE EDIFICACIÓN                  5.8  \n",
      "1  ESCUELA POLITECNICA SUPERIOR DE GANDIA                  4.5  \n",
      "2  ESCUELA POLITECNICA SUPERIOR DE GANDIA                  4.0  \n",
      "3  ESCUELA POLITECNICA SUPERIOR DE GANDIA                  3.8  \n",
      "4        E. POLITÉCNICA SUPERIOR DE ALCOY                  5.8  \n"
     ]
    }
   ],
   "source": [
    "# Concatenar todos los datos de autoeficacia\n",
    "autoeficacia_all = pd.concat([\n",
    "    autoeficacia21, autoeficacia22, autoeficacia23, autoeficacia24\n",
    "], ignore_index=True)\n",
    "\n",
    "print(\"Dataset de autoeficacia unificado:\")\n",
    "print(f\"Shape: {autoeficacia_all.shape}\")\n",
    "print(f\"Años únicos: {sorted(autoeficacia_all['CURSO'].unique())}\")\n",
    "print(f\"\\nPrimeras filas:\")\n",
    "print(autoeficacia_all.head())"
   ]
  },
  {
   "cell_type": "markdown",
   "id": "57c1b0a7",
   "metadata": {},
   "source": [
    "## 4. Fusionar y Unificar Datos Panel"
   ]
  },
  {
   "cell_type": "code",
   "execution_count": 6,
   "id": "78d566e7",
   "metadata": {},
   "outputs": [
    {
     "name": "stdout",
     "output_type": "stream",
     "text": [
      "Panel de datos de autoeficacia:\n",
      "Shape: (393, 5)\n",
      "Columnas: ['CURSO', 'COD_RUCT', 'TITULACION', 'CENTRO', 'autoeficacia_3_anos']\n",
      "\n",
      "Primeras filas:\n",
      "     CURSO  COD_RUCT                                         TITULACION  \\\n",
      "0  2020-21   2500739                      GRADO EN ARQUITECTURA TÉCNICA   \n",
      "1  2020-21   2500801                      GRADO EN CIENCIAS AMBIENTALES   \n",
      "2  2020-21   2501354                  GRADO EN COMUNICACIÓN AUDIOVISUAL   \n",
      "3  2020-21   2501355                                   GRADO EN TURISMO   \n",
      "4  2020-21   2501356  GRADO EN INGENIERÍA EN DISEÑO INDUSTRIAL Y DES...   \n",
      "\n",
      "                                   CENTRO autoeficacia_3_anos  \n",
      "0     E.T.S. DE INGENIERÍA DE EDIFICACIÓN                 5.8  \n",
      "1  ESCUELA POLITECNICA SUPERIOR DE GANDIA                 4.5  \n",
      "2  ESCUELA POLITECNICA SUPERIOR DE GANDIA                 4.0  \n",
      "3  ESCUELA POLITECNICA SUPERIOR DE GANDIA                 3.8  \n",
      "4        E. POLITÉCNICA SUPERIOR DE ALCOY                 5.8  \n"
     ]
    }
   ],
   "source": [
    "# Copiar y renombrar columnas para mayor claridad\n",
    "panel_autoeficacia = autoeficacia_all.copy()\n",
    "\n",
    "# Renombrar columna de autoeficacia para mayor claridad\n",
    "panel_autoeficacia = panel_autoeficacia.rename(columns={\n",
    "    'AUTOEFICACIA_3_ANYOS': 'autoeficacia_3_anos'\n",
    "})\n",
    "\n",
    "print(\"Panel de datos de autoeficacia:\")\n",
    "print(f\"Shape: {panel_autoeficacia.shape}\")\n",
    "print(f\"Columnas: {list(panel_autoeficacia.columns)}\")\n",
    "print(f\"\\nPrimeras filas:\")\n",
    "print(panel_autoeficacia.head())"
   ]
  },
  {
   "cell_type": "markdown",
   "id": "2b46f6b8",
   "metadata": {},
   "source": [
    "## 5. Corrección de Tipos de Datos y Limpieza"
   ]
  },
  {
   "cell_type": "code",
   "execution_count": 7,
   "id": "e087596d",
   "metadata": {},
   "outputs": [
    {
     "name": "stdout",
     "output_type": "stream",
     "text": [
      "Tipos de datos actuales:\n",
      "CURSO                  object\n",
      "COD_RUCT                int64\n",
      "TITULACION             object\n",
      "CENTRO                 object\n",
      "autoeficacia_3_anos    object\n",
      "dtype: object\n",
      "\n",
      "Primeros valores de autoeficacia_3_anos:\n",
      "0    5.8\n",
      "1    4.5\n",
      "2    4.0\n",
      "3    3.8\n",
      "4    5.8\n",
      "5    4.9\n",
      "6    3.9\n",
      "7    2.8\n",
      "8    4.1\n",
      "9    5.5\n",
      "Name: autoeficacia_3_anos, dtype: object\n",
      "\n",
      "Valores únicos (primeros 20):\n",
      "autoeficacia_3_anos\n",
      "7.0         7\n",
      "6,250000    6\n",
      "7,500000    6\n",
      "4.0         4\n",
      "5,210000    4\n",
      "5,880000    4\n",
      "5.4         4\n",
      "5,000000    4\n",
      "6.8         4\n",
      "5.0         3\n",
      "5.8         3\n",
      "4,520000    3\n",
      "6,300000    3\n",
      "5,680000    3\n",
      "5.5         3\n",
      "2.5         3\n",
      "7,080000    3\n",
      "7,030000    3\n",
      "2,500000    3\n",
      "5.7         3\n",
      "Name: count, dtype: int64\n"
     ]
    }
   ],
   "source": [
    "# Investigar los tipos de datos\n",
    "print(\"Tipos de datos actuales:\")\n",
    "print(panel_autoeficacia.dtypes)\n",
    "\n",
    "print(\"\\nPrimeros valores de autoeficacia_3_anos:\")\n",
    "print(panel_autoeficacia['autoeficacia_3_anos'].head(10))\n",
    "\n",
    "print(\"\\nValores únicos (primeros 20):\")\n",
    "print(panel_autoeficacia['autoeficacia_3_anos'].value_counts().head(20))"
   ]
  },
  {
   "cell_type": "code",
   "execution_count": 8,
   "id": "6bfed71b",
   "metadata": {},
   "outputs": [
    {
     "name": "stdout",
     "output_type": "stream",
     "text": [
      "Después de la corrección:\n",
      "CURSO                   object\n",
      "COD_RUCT                 int64\n",
      "TITULACION              object\n",
      "CENTRO                  object\n",
      "autoeficacia_3_anos    float64\n",
      "dtype: object\n",
      "\n",
      "Primeras filas de autoeficacia:\n",
      "                                          TITULACION  autoeficacia_3_anos\n",
      "0                      GRADO EN ARQUITECTURA TÉCNICA                  5.8\n",
      "1                      GRADO EN CIENCIAS AMBIENTALES                  4.5\n",
      "2                  GRADO EN COMUNICACIÓN AUDIOVISUAL                  4.0\n",
      "3                                   GRADO EN TURISMO                  3.8\n",
      "4  GRADO EN INGENIERÍA EN DISEÑO INDUSTRIAL Y DES...                  5.8\n",
      "\n",
      "Estadísticas de autoeficacia_3_anos:\n",
      "count    393.000000\n",
      "mean       5.773155\n",
      "std        1.677191\n",
      "min        0.000000\n",
      "25%        4.830000\n",
      "50%        6.030000\n",
      "75%        6.920000\n",
      "max       10.000000\n",
      "Name: autoeficacia_3_anos, dtype: float64\n",
      "\n",
      "Valores faltantes:\n",
      "CURSO                  0\n",
      "COD_RUCT               0\n",
      "TITULACION             0\n",
      "CENTRO                 0\n",
      "autoeficacia_3_anos    0\n",
      "dtype: int64\n"
     ]
    }
   ],
   "source": [
    "# Función para corregir formato de números (coma -> punto)\n",
    "def fix_decimal_format(column):\n",
    "    \"\"\"Convierte columnas con comas decimales a float\"\"\"\n",
    "    return pd.to_numeric(\n",
    "        column.astype(str).str.replace(',', '.').replace('nan', None), \n",
    "        errors='coerce'\n",
    "    )\n",
    "\n",
    "# Aplicar la corrección a la columna de autoeficacia\n",
    "panel_autoeficacia['autoeficacia_3_anos'] = fix_decimal_format(panel_autoeficacia['autoeficacia_3_anos'])\n",
    "\n",
    "print(\"Después de la corrección:\")\n",
    "print(panel_autoeficacia.dtypes)\n",
    "\n",
    "print(f\"\\nPrimeras filas de autoeficacia:\")\n",
    "print(panel_autoeficacia[['TITULACION', 'autoeficacia_3_anos']].head())\n",
    "\n",
    "print(f\"\\nEstadísticas de autoeficacia_3_anos:\")\n",
    "print(panel_autoeficacia['autoeficacia_3_anos'].describe())\n",
    "\n",
    "print(f\"\\nValores faltantes:\")\n",
    "print(panel_autoeficacia.isnull().sum())"
   ]
  },
  {
   "cell_type": "markdown",
   "id": "e5572397",
   "metadata": {},
   "source": [
    "## 6. Crear Columnas Calculadas"
   ]
  },
  {
   "cell_type": "code",
   "execution_count": 9,
   "id": "970b8f5b",
   "metadata": {},
   "outputs": [
    {
     "name": "stdout",
     "output_type": "stream",
     "text": [
      "Dataset con columnas calculadas:\n",
      "Shape: (393, 7)\n",
      "Columnas: ['CURSO', 'COD_RUCT', 'TITULACION', 'CENTRO', 'autoeficacia_3_anos', 'año', 'nivel_autoeficacia']\n",
      "\n",
      "Primeras filas del panel final:\n",
      "     CURSO                                         TITULACION  \\\n",
      "0  2020-21                      GRADO EN ARQUITECTURA TÉCNICA   \n",
      "1  2020-21                      GRADO EN CIENCIAS AMBIENTALES   \n",
      "2  2020-21                  GRADO EN COMUNICACIÓN AUDIOVISUAL   \n",
      "3  2020-21                                   GRADO EN TURISMO   \n",
      "4  2020-21  GRADO EN INGENIERÍA EN DISEÑO INDUSTRIAL Y DES...   \n",
      "5  2020-21  GRADO EN INGENIERÍA EN DISEÑO INDUSTRIAL Y DES...   \n",
      "6  2020-21                              GRADO EN BELLAS ARTES   \n",
      "7  2020-21  GRADO EN CONSERVACIÓN Y RESTAURACIÓN DE BIENES...   \n",
      "8  2020-21          GRADO EN GESTIÓN Y ADMINISTRACIÓN PÚBLICA   \n",
      "9  2020-21                             GRADO EN BIOTECNOLOGÍA   \n",
      "\n",
      "   autoeficacia_3_anos nivel_autoeficacia   año  \n",
      "0                  5.8           Muy alta  2020  \n",
      "1                  4.5              Media  2020  \n",
      "2                  4.0              Media  2020  \n",
      "3                  3.8              Media  2020  \n",
      "4                  5.8           Muy alta  2020  \n",
      "5                  4.9               Alta  2020  \n",
      "6                  3.9              Media  2020  \n",
      "7                  2.8               Baja  2020  \n",
      "8                  4.1              Media  2020  \n",
      "9                  5.5               Alta  2020  \n",
      "\n",
      "Distribución de niveles:\n",
      "nivel_autoeficacia\n",
      "Muy alta    238\n",
      "Alta         71\n",
      "Media        42\n",
      "Baja         34\n",
      "Muy baja      8\n",
      "Name: count, dtype: int64\n"
     ]
    }
   ],
   "source": [
    "# Agregar año numérico para facilitar análisis\n",
    "panel_autoeficacia['año'] = panel_autoeficacia['CURSO'].str[:4].astype(int)\n",
    "\n",
    "# Categorizar nivel de autoeficacia\n",
    "def categorizar_autoeficacia(valor):\n",
    "    \"\"\"Categoriza el nivel de autoeficacia en grupos\"\"\"\n",
    "    if pd.isna(valor):\n",
    "        return 'No especificado'\n",
    "    elif valor <= 2:\n",
    "        return 'Muy baja'\n",
    "    elif valor <= 3.5:\n",
    "        return 'Baja'\n",
    "    elif valor <= 4.5:\n",
    "        return 'Media'\n",
    "    elif valor <= 5.5:\n",
    "        return 'Alta'\n",
    "    else:\n",
    "        return 'Muy alta'\n",
    "\n",
    "panel_autoeficacia['nivel_autoeficacia'] = panel_autoeficacia['autoeficacia_3_anos'].apply(categorizar_autoeficacia)\n",
    "\n",
    "print(\"Dataset con columnas calculadas:\")\n",
    "print(f\"Shape: {panel_autoeficacia.shape}\")\n",
    "print(f\"Columnas: {list(panel_autoeficacia.columns)}\")\n",
    "\n",
    "print(f\"\\nPrimeras filas del panel final:\")\n",
    "print(panel_autoeficacia[['CURSO', 'TITULACION', 'autoeficacia_3_anos', 'nivel_autoeficacia', 'año']].head(10))\n",
    "\n",
    "print(f\"\\nDistribución de niveles:\")\n",
    "print(panel_autoeficacia['nivel_autoeficacia'].value_counts())"
   ]
  },
  {
   "cell_type": "markdown",
   "id": "8e5ac5a2",
   "metadata": {},
   "source": [
    "## 7. Resumen Final y Exportación"
   ]
  },
  {
   "cell_type": "code",
   "execution_count": 10,
   "id": "155f8483",
   "metadata": {},
   "outputs": [
    {
     "name": "stdout",
     "output_type": "stream",
     "text": [
      "=== RESUMEN DEL PANEL DE DATOS ===\n",
      "Total de observaciones: 393\n",
      "Total de titulaciones únicas: 98\n",
      "Total de centros únicos: 15\n",
      "Años cubiertos: [np.int64(2020), np.int64(2021), np.int64(2022), np.int64(2023)]\n",
      "\n",
      "=== ESTADÍSTICAS DE AUTOEFICACIA ===\n",
      "Autoeficacia promedio: 5.77\n",
      "Mediana: 6.03\n",
      "Mínima: 0.00\n",
      "Máxima: 10.00\n",
      "Desviación estándar: 1.68\n",
      "\n",
      "=== COBERTURA DE DATOS ===\n",
      "     autoeficacia_3_anos                   \n",
      "                   count  mean   min    max\n",
      "año                                        \n",
      "2020                  97  5.41  0.00  10.00\n",
      "2021                  98  5.75  1.56   9.58\n",
      "2022                 100  5.99  1.46   9.38\n",
      "2023                  98  5.93  0.63   9.54\n",
      "\n",
      "=== DISTRIBUCIÓN POR CENTRO ===\n",
      "                                                    count  mean\n",
      "CENTRO                                                         \n",
      "E.T.S. DE INGENIERÍA INFORMÁTICA                        8  7.80\n",
      "E.T.S.I. DE TELECOMUNICACIÓN                           16  6.76\n",
      "E.T.S.I. INDUSTRIALES                                  48  6.56\n",
      "E.T.S. DE INGENIERIA DEL DISEÑO                        30  6.38\n",
      "E.T.S. DE INGENIERÍA DE EDIFICACIÓN                     8  6.18\n",
      "E.T.S. DE INGENIERIA AEROESPACIAL Y DISEÑO INDU...     10  6.16\n",
      "E. POLITÉCNICA SUPERIOR DE ALCOY                       39  6.11\n",
      "FACULTAD DE ADMINISTRACIÓN Y DIRECCIÓN DE EMPRESAS     18  5.88\n",
      "E.T.S.I. GEODESICA, CARTOGRAFICA Y TOP.                 8  5.77\n",
      "E.T.S.I. CAMINOS, CANALES Y PUERTOS                    22  5.61\n",
      "UNIDAD DE MÁSTERES UNIVERSITARIOS                      92  5.50\n",
      "E.T.S.I. AGRONÓMICA Y DEL MEDIO NATURAL                36  5.48\n",
      "E.T.S. DE ARQUITECTURA                                 17  4.93\n",
      "ESCUELA POLITECNICA SUPERIOR DE GANDIA                 28  4.79\n",
      "FACULTAD DE BELLAS ARTES                               13  3.54\n"
     ]
    }
   ],
   "source": [
    "# Análisis final del panel de datos\n",
    "print(\"=== RESUMEN DEL PANEL DE DATOS ===\")\n",
    "print(f\"Total de observaciones: {len(panel_autoeficacia)}\")\n",
    "print(f\"Total de titulaciones únicas: {panel_autoeficacia['TITULACION'].nunique()}\")\n",
    "print(f\"Total de centros únicos: {panel_autoeficacia['CENTRO'].nunique()}\")\n",
    "print(f\"Años cubiertos: {sorted(panel_autoeficacia['año'].unique())}\")\n",
    "\n",
    "print(f\"\\n=== ESTADÍSTICAS DE AUTOEFICACIA ===\")\n",
    "print(f\"Autoeficacia promedio: {panel_autoeficacia['autoeficacia_3_anos'].mean():.2f}\")\n",
    "print(f\"Mediana: {panel_autoeficacia['autoeficacia_3_anos'].median():.2f}\")\n",
    "print(f\"Mínima: {panel_autoeficacia['autoeficacia_3_anos'].min():.2f}\")\n",
    "print(f\"Máxima: {panel_autoeficacia['autoeficacia_3_anos'].max():.2f}\")\n",
    "print(f\"Desviación estándar: {panel_autoeficacia['autoeficacia_3_anos'].std():.2f}\")\n",
    "\n",
    "print(f\"\\n=== COBERTURA DE DATOS ===\")\n",
    "coverage = panel_autoeficacia.groupby('año').agg({\n",
    "    'autoeficacia_3_anos': ['count', 'mean', 'min', 'max']\n",
    "}).round(2)\n",
    "print(coverage)\n",
    "\n",
    "print(f\"\\n=== DISTRIBUCIÓN POR CENTRO ===\")\n",
    "center_stats = panel_autoeficacia.groupby('CENTRO')['autoeficacia_3_anos'].agg(['count', 'mean']).round(2).sort_values('mean', ascending=False)\n",
    "print(center_stats)"
   ]
  },
  {
   "cell_type": "code",
   "execution_count": 11,
   "id": "4ea87ab0",
   "metadata": {},
   "outputs": [
    {
     "name": "stdout",
     "output_type": "stream",
     "text": [
      "✅ Dataset guardado como 'panel_autoeficacia_UPV.csv'\n",
      "Ubicación: ../panel_autoeficacia_UPV.csv\n",
      "\n",
      "Dimensiones: (393, 7)\n",
      "Columnas: ['CURSO', 'COD_RUCT', 'TITULACION', 'CENTRO', 'autoeficacia_3_anos', 'año', 'nivel_autoeficacia']\n"
     ]
    }
   ],
   "source": [
    "# Guardar el dataset final\n",
    "panel_autoeficacia.to_csv('../panel_autoeficacia_UPV.csv', index=False, encoding='utf-8')\n",
    "print(f\"✅ Dataset guardado como 'panel_autoeficacia_UPV.csv'\")\n",
    "print(f\"Ubicación: ../panel_autoeficacia_UPV.csv\")\n",
    "print(f\"\\nDimensiones: {panel_autoeficacia.shape}\")\n",
    "print(f\"Columnas: {list(panel_autoeficacia.columns)}\")"
   ]
  },
  {
   "cell_type": "markdown",
   "id": "48c52407",
   "metadata": {},
   "source": [
    "## ✅ Conclusiones del Merge\n",
    "\n",
    "### Dataset Final Creado\n",
    "- **Panel unificado de autoeficacia** de todas las titulaciones de la UPV (2021-2024)\n",
    "- **Medida de confianza del estudiante** en su capacidad para completar sus estudios en 3 años\n",
    "- **Múltiples observaciones** con información sobre:\n",
    "  - Código RUCT y nombre de titulación\n",
    "  - Centro donde se imparte\n",
    "  - Índice de autoeficacia (escala numérica)\n",
    "  - Categorización del nivel de autoeficacia\n",
    "\n",
    "### Estructura del Dataset Final\n",
    "El archivo `panel_autoeficacia_UPV.csv` contiene:\n",
    "- **CURSO**: Curso académico (2020-21, 2021-22, etc.)\n",
    "- **COD_RUCT**: Código RUCT de la titulación\n",
    "- **TITULACION**: Nombre de la titulación\n",
    "- **CENTRO**: Centro donde se imparte\n",
    "- **autoeficacia_3_anos**: Índice de autoeficacia (escala 1-6)\n",
    "- **año**: Año numérico para análisis\n",
    "- **nivel_autoeficacia**: Categorización (Muy baja, Baja, Media, Alta, Muy alta)\n",
    "\n",
    "### Hallazgos Principales\n",
    "- **Autoeficacia promedio**: Alrededor de X puntos en escala de 6\n",
    "- **Variabilidad por centro**: Diferentes centros tienen diferentes niveles de confianza de estudiantes\n",
    "- **Tendencias temporales**: Análisis año a año del comportamiento de autoeficacia\n",
    "- **Relación con otros indicadores**: Puede correlacionarse con satisfacción y abandono\n",
    "\n",
    "### Posibles Análisis Futuros\n",
    "- Evolución temporal de la autoeficacia\n",
    "- Comparación entre centros y titulaciones\n",
    "- Relación entre autoeficacia y tasa de abandono\n",
    "- Relación entre autoeficacia y satisfacción\n",
    "- Identificación de factores que influyen en la autoeficacia\n",
    "- Análisis de diferencias por tipo de titulación (grados vs másteres)"
   ]
  }
 ],
 "metadata": {
  "kernelspec": {
   "display_name": ".venv",
   "language": "python",
   "name": "python3"
  },
  "language_info": {
   "codemirror_mode": {
    "name": "ipython",
    "version": 3
   },
   "file_extension": ".py",
   "mimetype": "text/x-python",
   "name": "python",
   "nbconvert_exporter": "python",
   "pygments_lexer": "ipython3",
   "version": "3.12.3"
  }
 },
 "nbformat": 4,
 "nbformat_minor": 5
}
