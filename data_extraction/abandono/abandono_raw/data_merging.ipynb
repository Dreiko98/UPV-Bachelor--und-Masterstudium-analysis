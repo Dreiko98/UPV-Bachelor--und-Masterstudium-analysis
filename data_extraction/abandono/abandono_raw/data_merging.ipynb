{
 "cells": [
  {
   "cell_type": "markdown",
   "id": "e7ba6fb6",
   "metadata": {},
   "source": [
    "# Unificación de Datos de Tasa de Abandono UPV\n",
    "\n",
    "En este notebook vamos a unificar todos los datos de tasa de abandono de los años 2021-2024, creando un panel de datos con una sola estructura final."
   ]
  },
  {
   "cell_type": "markdown",
   "id": "79971343",
   "metadata": {},
   "source": [
    "## 1. Cargar y Explorar Datos de Abandono"
   ]
  },
  {
   "cell_type": "code",
   "execution_count": 11,
   "id": "14a94b97",
   "metadata": {},
   "outputs": [
    {
     "name": "stdout",
     "output_type": "stream",
     "text": [
      "✅ Datos de abandono cargados correctamente\n",
      "\n",
      "2021: (105, 5)\n",
      "2022: (113, 5)\n",
      "2023: (116, 5)\n",
      "2024: (121, 5)\n"
     ]
    }
   ],
   "source": [
    "import pandas as pd\n",
    "\n",
    "# Cargar todos los archivos de abandono\n",
    "abandono21 = pd.read_csv('2021-abandono.csv', sep=';', encoding='latin-1')\n",
    "abandono22 = pd.read_csv('2022-abandono.csv', sep=';', encoding='latin-1')\n",
    "abandono23 = pd.read_csv('2023-abandono.csv', sep=';', encoding='latin-1')\n",
    "abandono24 = pd.read_csv('2024-abandono.csv', sep=';', encoding='latin-1')\n",
    "\n",
    "print(\"✅ Datos de abandono cargados correctamente\")\n",
    "print(f\"\\n2021: {abandono21.shape}\")\n",
    "print(f\"2022: {abandono22.shape}\")\n",
    "print(f\"2023: {abandono23.shape}\")\n",
    "print(f\"2024: {abandono24.shape}\")"
   ]
  },
  {
   "cell_type": "code",
   "execution_count": 12,
   "id": "4b7b9ab7",
   "metadata": {},
   "outputs": [
    {
     "name": "stdout",
     "output_type": "stream",
     "text": [
      "=== ESTRUCTURA DE DATOS DE ABANDONO ===\n",
      "\n",
      "--- Abandono 2021 ---\n",
      "Shape: (105, 5)\n",
      "Columnas: ['CURSO', 'COD_RUCT', 'TITULACION', 'CENTRO', 'TASA_ABANDONO']\n",
      "Tipos de datos: {'CURSO': dtype('O'), 'COD_RUCT': dtype('int64'), 'TITULACION': dtype('O'), 'CENTRO': dtype('O'), 'TASA_ABANDONO': dtype('float64')}\n",
      "Sample:\n",
      "     CURSO  COD_RUCT                         TITULACION  \\\n",
      "0  2020-21   2500739      GRADO EN ARQUITECTURA TÉCNICA   \n",
      "1  2020-21   2500801      GRADO EN CIENCIAS AMBIENTALES   \n",
      "2  2020-21   2501354  GRADO EN COMUNICACIÓN AUDIOVISUAL   \n",
      "\n",
      "                                   CENTRO  TASA_ABANDONO  \n",
      "0     E.T.S. DE INGENIERÍA DE EDIFICACIÓN          36.36  \n",
      "1  ESCUELA POLITECNICA SUPERIOR DE GANDIA          12.50  \n",
      "2  ESCUELA POLITECNICA SUPERIOR DE GANDIA           4.12  \n",
      "\n",
      "--- Abandono 2022 ---\n",
      "Shape: (113, 5)\n",
      "Columnas: ['CURSO', 'COD_RUCT', 'TITULACION', 'CENTRO', 'TASA_ABANDONO']\n",
      "Tipos de datos: {'CURSO': dtype('O'), 'COD_RUCT': dtype('int64'), 'TITULACION': dtype('O'), 'CENTRO': dtype('O'), 'TASA_ABANDONO': dtype('O')}\n",
      "Sample:\n",
      "     CURSO  COD_RUCT                         TITULACION  \\\n",
      "0  2021-22   2500739      GRADO EN ARQUITECTURA TÉCNICA   \n",
      "1  2021-22   2500801      GRADO EN CIENCIAS AMBIENTALES   \n",
      "2  2021-22   2501354  GRADO EN COMUNICACIÓN AUDIOVISUAL   \n",
      "\n",
      "                                   CENTRO TASA_ABANDONO  \n",
      "0     E.T.S. DE INGENIERÍA DE EDIFICACIÓN     30,080000  \n",
      "1  ESCUELA POLITECNICA SUPERIOR DE GANDIA     15,380000  \n",
      "2  ESCUELA POLITECNICA SUPERIOR DE GANDIA      6,670000  \n",
      "\n",
      "--- Abandono 2023 ---\n",
      "Shape: (116, 5)\n",
      "Columnas: ['CURSO', 'COD_RUCT', 'TITULACION', 'CENTRO', 'TASA_ABANDONO']\n",
      "Tipos de datos: {'CURSO': dtype('O'), 'COD_RUCT': dtype('int64'), 'TITULACION': dtype('O'), 'CENTRO': dtype('O'), 'TASA_ABANDONO': dtype('O')}\n",
      "Sample:\n",
      "     CURSO  COD_RUCT                         TITULACION  \\\n",
      "0  2022-23   2500739      GRADO EN ARQUITECTURA TÉCNICA   \n",
      "1  2022-23   2500801      GRADO EN CIENCIAS AMBIENTALES   \n",
      "2  2022-23   2501354  GRADO EN COMUNICACIÓN AUDIOVISUAL   \n",
      "\n",
      "                                   CENTRO TASA_ABANDONO  \n",
      "0     E.T.S. DE INGENIERÍA DE EDIFICACIÓN     26,530000  \n",
      "1  ESCUELA POLITECNICA SUPERIOR DE GANDIA     18,870000  \n",
      "2  ESCUELA POLITECNICA SUPERIOR DE GANDIA     10,990000  \n",
      "\n",
      "--- Abandono 2024 ---\n",
      "Shape: (121, 5)\n",
      "Columnas: ['CURSO', 'COD_RUCT', 'TITULACION', 'CENTRO', 'TASA_ABANDONO']\n",
      "Tipos de datos: {'CURSO': dtype('O'), 'COD_RUCT': dtype('int64'), 'TITULACION': dtype('O'), 'CENTRO': dtype('O'), 'TASA_ABANDONO': dtype('O')}\n",
      "Sample:\n",
      "     CURSO  COD_RUCT                         TITULACION  \\\n",
      "0  2023-24   2500739      GRADO EN ARQUITECTURA TÉCNICA   \n",
      "1  2023-24   2500801      GRADO EN CIENCIAS AMBIENTALES   \n",
      "2  2023-24   2501354  GRADO EN COMUNICACIÓN AUDIOVISUAL   \n",
      "\n",
      "                                   CENTRO TASA_ABANDONO  \n",
      "0     E.T.S. DE INGENIERÍA DE EDIFICACIÓN     20,540000  \n",
      "1  ESCUELA POLITECNICA SUPERIOR DE GANDIA     12,500000  \n",
      "2  ESCUELA POLITECNICA SUPERIOR DE GANDIA      1,390000  \n"
     ]
    }
   ],
   "source": [
    "# Explorar la estructura de todos los datasets\n",
    "print(\"=== ESTRUCTURA DE DATOS DE ABANDONO ===\")\n",
    "datasets_abandono = [\n",
    "    (\"2021\", abandono21),\n",
    "    (\"2022\", abandono22), \n",
    "    (\"2023\", abandono23),\n",
    "    (\"2024\", abandono24)\n",
    "]\n",
    "\n",
    "for year, df in datasets_abandono:\n",
    "    print(f\"\\n--- Abandono {year} ---\")\n",
    "    print(f\"Shape: {df.shape}\")\n",
    "    print(f\"Columnas: {list(df.columns)}\")\n",
    "    print(f\"Tipos de datos: {dict(df.dtypes)}\")\n",
    "    print(f\"Sample:\")\n",
    "    print(df.head(3))"
   ]
  },
  {
   "cell_type": "markdown",
   "id": "9d79459e",
   "metadata": {},
   "source": [
    "## 2. Analizar Estructura y Columnas"
   ]
  },
  {
   "cell_type": "code",
   "execution_count": 13,
   "id": "c3d9b59f",
   "metadata": {},
   "outputs": [
    {
     "name": "stdout",
     "output_type": "stream",
     "text": [
      "=== ANÁLISIS DE COLUMNAS ===\n",
      "¿Todas las tablas de abandono tienen las mismas columnas? True\n",
      "\n",
      "Columnas comunes: ['CURSO', 'COD_RUCT', 'TITULACION', 'CENTRO', 'TASA_ABANDONO']\n",
      "\n",
      "=== VALORES FALTANTES ===\n",
      "Abandono 2021: 0 valores faltantes\n",
      "Abandono 2022: 0 valores faltantes\n",
      "Abandono 2023: 0 valores faltantes\n",
      "Abandono 2024: 0 valores faltantes\n"
     ]
    }
   ],
   "source": [
    "# Análisis específico de columnas\n",
    "print(\"=== ANÁLISIS DE COLUMNAS ===\")\n",
    "\n",
    "# Verificar si todas las tablas tienen las mismas columnas\n",
    "abandono_columns = [set(df.columns) for _, df in datasets_abandono]\n",
    "all_same = len(set(frozenset(s) for s in abandono_columns)) == 1\n",
    "print(f\"¿Todas las tablas de abandono tienen las mismas columnas? {all_same}\")\n",
    "\n",
    "if all_same:\n",
    "    print(f\"\\nColumnas comunes: {list(abandono21.columns)}\")\n",
    "else:\n",
    "    print(\"\\nColumnas por año:\")\n",
    "    for year, cols in zip([\"2021\", \"2022\", \"2023\", \"2024\"], abandono_columns):\n",
    "        print(f\"  {year}: {list(cols)}\")\n",
    "\n",
    "# Verificar valores faltantes\n",
    "print(\"\\n=== VALORES FALTANTES ===\")\n",
    "for year, df in datasets_abandono:\n",
    "    missing = df.isnull().sum().sum()\n",
    "    print(f\"Abandono {year}: {missing} valores faltantes\")"
   ]
  },
  {
   "cell_type": "markdown",
   "id": "873800a3",
   "metadata": {},
   "source": [
    "## 3. Concatenar Datasets Anuales"
   ]
  },
  {
   "cell_type": "code",
   "execution_count": 14,
   "id": "2e27fb02",
   "metadata": {},
   "outputs": [
    {
     "name": "stdout",
     "output_type": "stream",
     "text": [
      "Dataset de abandono unificado:\n",
      "Shape: (455, 5)\n",
      "Años únicos: ['2020-21', '2021-22', '2022-23', '2023-24']\n",
      "\n",
      "Primeras filas:\n",
      "     CURSO  COD_RUCT                                         TITULACION  \\\n",
      "0  2020-21   2500739                      GRADO EN ARQUITECTURA TÉCNICA   \n",
      "1  2020-21   2500801                      GRADO EN CIENCIAS AMBIENTALES   \n",
      "2  2020-21   2501354                  GRADO EN COMUNICACIÓN AUDIOVISUAL   \n",
      "3  2020-21   2501355                                   GRADO EN TURISMO   \n",
      "4  2020-21   2501356  GRADO EN INGENIERÍA EN DISEÑO INDUSTRIAL Y DES...   \n",
      "\n",
      "                                   CENTRO TASA_ABANDONO  \n",
      "0     E.T.S. DE INGENIERÍA DE EDIFICACIÓN         36.36  \n",
      "1  ESCUELA POLITECNICA SUPERIOR DE GANDIA          12.5  \n",
      "2  ESCUELA POLITECNICA SUPERIOR DE GANDIA          4.12  \n",
      "3  ESCUELA POLITECNICA SUPERIOR DE GANDIA         12.94  \n",
      "4        E. POLITÉCNICA SUPERIOR DE ALCOY         10.71  \n"
     ]
    }
   ],
   "source": [
    "# Concatenar todos los datos de abandono\n",
    "abandono_all = pd.concat([\n",
    "    abandono21, abandono22, abandono23, abandono24\n",
    "], ignore_index=True)\n",
    "\n",
    "print(\"Dataset de abandono unificado:\")\n",
    "print(f\"Shape: {abandono_all.shape}\")\n",
    "print(f\"Años únicos: {sorted(abandono_all['CURSO'].unique())}\")\n",
    "print(f\"\\nPrimeras filas:\")\n",
    "print(abandono_all.head())"
   ]
  },
  {
   "cell_type": "markdown",
   "id": "13ef4bd6",
   "metadata": {},
   "source": [
    "## 4. Fusionar y Unificar Datos Panel"
   ]
  },
  {
   "cell_type": "code",
   "execution_count": 15,
   "id": "732396e7",
   "metadata": {},
   "outputs": [
    {
     "name": "stdout",
     "output_type": "stream",
     "text": [
      "Panel de datos de abandono:\n",
      "Shape: (455, 5)\n",
      "Columnas: ['CURSO', 'COD_RUCT', 'TITULACION', 'CENTRO', 'tasa_abandono']\n",
      "\n",
      "Primeras filas:\n",
      "     CURSO  COD_RUCT                                         TITULACION  \\\n",
      "0  2020-21   2500739                      GRADO EN ARQUITECTURA TÉCNICA   \n",
      "1  2020-21   2500801                      GRADO EN CIENCIAS AMBIENTALES   \n",
      "2  2020-21   2501354                  GRADO EN COMUNICACIÓN AUDIOVISUAL   \n",
      "3  2020-21   2501355                                   GRADO EN TURISMO   \n",
      "4  2020-21   2501356  GRADO EN INGENIERÍA EN DISEÑO INDUSTRIAL Y DES...   \n",
      "\n",
      "                                   CENTRO tasa_abandono  \n",
      "0     E.T.S. DE INGENIERÍA DE EDIFICACIÓN         36.36  \n",
      "1  ESCUELA POLITECNICA SUPERIOR DE GANDIA          12.5  \n",
      "2  ESCUELA POLITECNICA SUPERIOR DE GANDIA          4.12  \n",
      "3  ESCUELA POLITECNICA SUPERIOR DE GANDIA         12.94  \n",
      "4        E. POLITÉCNICA SUPERIOR DE ALCOY         10.71  \n"
     ]
    }
   ],
   "source": [
    "# No hay múltiples fuentes para abandonoones, pero renombramos columnas para claridad\n",
    "panel_abandono = abandono_all.copy()\n",
    "\n",
    "# Renombrar columna de tasa de abandono para mayor claridad\n",
    "panel_abandono = panel_abandono.rename(columns={\n",
    "    'TASA_ABANDONO': 'tasa_abandono'\n",
    "})\n",
    "\n",
    "print(\"Panel de datos de abandono:\")\n",
    "print(f\"Shape: {panel_abandono.shape}\")\n",
    "print(f\"Columnas: {list(panel_abandono.columns)}\")\n",
    "print(f\"\\nPrimeras filas:\")\n",
    "print(panel_abandono.head())"
   ]
  },
  {
   "cell_type": "markdown",
   "id": "19d14227",
   "metadata": {},
   "source": [
    "## 5. Corrección de Tipos de Datos y Limpieza"
   ]
  },
  {
   "cell_type": "code",
   "execution_count": 16,
   "id": "e3824ea0",
   "metadata": {},
   "outputs": [
    {
     "name": "stdout",
     "output_type": "stream",
     "text": [
      "Tipos de datos actuales:\n",
      "CURSO            object\n",
      "COD_RUCT          int64\n",
      "TITULACION       object\n",
      "CENTRO           object\n",
      "tasa_abandono    object\n",
      "dtype: object\n",
      "\n",
      "Primeros valores de tasa_abandono:\n",
      "0    36.36\n",
      "1     12.5\n",
      "2     4.12\n",
      "3    12.94\n",
      "4    10.71\n",
      "5     1.42\n",
      "6     7.55\n",
      "7     8.33\n",
      "8    23.68\n",
      "9      8.7\n",
      "Name: tasa_abandono, dtype: object\n",
      "\n",
      "Valores únicos (primeros 20):\n",
      "tasa_abandono\n",
      "0,000000     23\n",
      "11,110000     7\n",
      "14,290000     7\n",
      "16,670000     7\n",
      "0.0           7\n",
      "8,330000      5\n",
      "20,000000     5\n",
      "10,000000     4\n",
      "15,000000     4\n",
      "7,690000      4\n",
      "18,180000     4\n",
      "12,500000     4\n",
      "12.5          4\n",
      "19,230000     4\n",
      "15,380000     4\n",
      "25.0          4\n",
      "13,640000     3\n",
      "25,000000     3\n",
      "16,000000     3\n",
      "9,520000      3\n",
      "Name: count, dtype: int64\n"
     ]
    }
   ],
   "source": [
    "# Investigar los tipos de datos\n",
    "print(\"Tipos de datos actuales:\")\n",
    "print(panel_abandono.dtypes)\n",
    "\n",
    "print(\"\\nPrimeros valores de tasa_abandono:\")\n",
    "print(panel_abandono['tasa_abandono'].head(10))\n",
    "\n",
    "print(\"\\nValores únicos (primeros 20):\")\n",
    "print(panel_abandono['tasa_abandono'].value_counts().head(20))"
   ]
  },
  {
   "cell_type": "code",
   "execution_count": 17,
   "id": "7ca1e8ad",
   "metadata": {},
   "outputs": [
    {
     "name": "stdout",
     "output_type": "stream",
     "text": [
      "Después de la corrección:\n",
      "CURSO             object\n",
      "COD_RUCT           int64\n",
      "TITULACION        object\n",
      "CENTRO            object\n",
      "tasa_abandono    float64\n",
      "dtype: object\n",
      "\n",
      "Primeras filas de tasa de abandono:\n",
      "                                          TITULACION  tasa_abandono\n",
      "0                      GRADO EN ARQUITECTURA TÉCNICA          36.36\n",
      "1                      GRADO EN CIENCIAS AMBIENTALES          12.50\n",
      "2                  GRADO EN COMUNICACIÓN AUDIOVISUAL           4.12\n",
      "3                                   GRADO EN TURISMO          12.94\n",
      "4  GRADO EN INGENIERÍA EN DISEÑO INDUSTRIAL Y DES...          10.71\n",
      "\n",
      "Estadísticas de tasa_abandono:\n",
      "count    455.000000\n",
      "mean      14.710703\n",
      "std       11.841438\n",
      "min        0.000000\n",
      "25%        6.670000\n",
      "50%       11.760000\n",
      "75%       19.290000\n",
      "max      100.000000\n",
      "Name: tasa_abandono, dtype: float64\n",
      "\n",
      "Valores faltantes:\n",
      "CURSO            0\n",
      "COD_RUCT         0\n",
      "TITULACION       0\n",
      "CENTRO           0\n",
      "tasa_abandono    0\n",
      "dtype: int64\n"
     ]
    }
   ],
   "source": [
    "# Función para corregir formato de números (coma -> punto)\n",
    "def fix_decimal_format(column):\n",
    "    \"\"\"Convierte columnas con comas decimales a float\"\"\"\n",
    "    return pd.to_numeric(\n",
    "        column.astype(str).str.replace(',', '.').replace('nan', None), \n",
    "        errors='coerce'\n",
    "    )\n",
    "\n",
    "# Aplicar la corrección a la columna de tasa de abandono\n",
    "panel_abandono['tasa_abandono'] = fix_decimal_format(panel_abandono['tasa_abandono'])\n",
    "\n",
    "print(\"Después de la corrección:\")\n",
    "print(panel_abandono.dtypes)\n",
    "\n",
    "print(f\"\\nPrimeras filas de tasa de abandono:\")\n",
    "print(panel_abandono[['TITULACION', 'tasa_abandono']].head())\n",
    "\n",
    "print(f\"\\nEstadísticas de tasa_abandono:\")\n",
    "print(panel_abandono['tasa_abandono'].describe())\n",
    "\n",
    "print(f\"\\nValores faltantes:\")\n",
    "print(panel_abandono.isnull().sum())"
   ]
  },
  {
   "cell_type": "markdown",
   "id": "1d568bec",
   "metadata": {},
   "source": [
    "## 6. Crear Columnas Calculadas"
   ]
  },
  {
   "cell_type": "code",
   "execution_count": 18,
   "id": "499baaee",
   "metadata": {},
   "outputs": [
    {
     "name": "stdout",
     "output_type": "stream",
     "text": [
      "Dataset con columnas calculadas:\n",
      "Shape: (455, 7)\n",
      "Columnas: ['CURSO', 'COD_RUCT', 'TITULACION', 'CENTRO', 'tasa_abandono', 'año', 'tasa_permanencia']\n",
      "\n",
      "Primeras filas del panel final:\n",
      "     CURSO                                         TITULACION  tasa_abandono  \\\n",
      "0  2020-21                      GRADO EN ARQUITECTURA TÉCNICA          36.36   \n",
      "1  2020-21                      GRADO EN CIENCIAS AMBIENTALES          12.50   \n",
      "2  2020-21                  GRADO EN COMUNICACIÓN AUDIOVISUAL           4.12   \n",
      "3  2020-21                                   GRADO EN TURISMO          12.94   \n",
      "4  2020-21  GRADO EN INGENIERÍA EN DISEÑO INDUSTRIAL Y DES...          10.71   \n",
      "5  2020-21  GRADO EN INGENIERÍA EN DISEÑO INDUSTRIAL Y DES...           1.42   \n",
      "6  2020-21                              GRADO EN BELLAS ARTES           7.55   \n",
      "7  2020-21  GRADO EN CONSERVACIÓN Y RESTAURACIÓN DE BIENES...           8.33   \n",
      "8  2020-21          GRADO EN GESTIÓN Y ADMINISTRACIÓN PÚBLICA          23.68   \n",
      "9  2020-21                             GRADO EN BIOTECNOLOGÍA           8.70   \n",
      "\n",
      "   tasa_permanencia   año  \n",
      "0             63.64  2020  \n",
      "1             87.50  2020  \n",
      "2             95.88  2020  \n",
      "3             87.06  2020  \n",
      "4             89.29  2020  \n",
      "5             98.58  2020  \n",
      "6             92.45  2020  \n",
      "7             91.67  2020  \n",
      "8             76.32  2020  \n",
      "9             91.30  2020  \n"
     ]
    }
   ],
   "source": [
    "# Agregar año numérico para facilitar análisis\n",
    "panel_abandono['año'] = panel_abandono['CURSO'].str[:4].astype(int)\n",
    "\n",
    "# Calcular tasa de permanencia (retención)\n",
    "panel_abandono['tasa_permanencia'] = 100 - panel_abandono['tasa_abandono']\n",
    "\n",
    "print(\"Dataset con columnas calculadas:\")\n",
    "print(f\"Shape: {panel_abandono.shape}\")\n",
    "print(f\"Columnas: {list(panel_abandono.columns)}\")\n",
    "\n",
    "print(f\"\\nPrimeras filas del panel final:\")\n",
    "print(panel_abandono[['CURSO', 'TITULACION', 'tasa_abandono', 'tasa_permanencia', 'año']].head(10))"
   ]
  },
  {
   "cell_type": "markdown",
   "id": "dc934d41",
   "metadata": {},
   "source": [
    "## 7. Resumen Final y Exportación"
   ]
  },
  {
   "cell_type": "code",
   "execution_count": 19,
   "id": "b09bf6a9",
   "metadata": {},
   "outputs": [
    {
     "name": "stdout",
     "output_type": "stream",
     "text": [
      "=== RESUMEN DEL PANEL DE DATOS ===\n",
      "Total de observaciones: 455\n",
      "Total de titulaciones únicas: 119\n",
      "Total de centros únicos: 15\n",
      "Años cubiertos: [np.int64(2020), np.int64(2021), np.int64(2022), np.int64(2023)]\n",
      "\n",
      "=== ESTADÍSTICAS DE TASA DE ABANDONO ===\n",
      "Tasa promedio de abandono: 14.71%\n",
      "Mediana de tasa de abandono: 11.76%\n",
      "Mínima: 0.00%\n",
      "Máxima: 100.00%\n",
      "Desviación estándar: 11.84%\n",
      "\n",
      "=== COBERTURA DE DATOS ===\n",
      "     tasa_abandono                    \n",
      "             count   mean  min     max\n",
      "año                                   \n",
      "2020           105  12.79  0.0   42.11\n",
      "2021           113  15.69  0.0   47.50\n",
      "2022           116  14.52  0.0   58.82\n",
      "2023           121  15.65  0.0  100.00\n",
      "\n",
      "=== DISTRIBUCIÓN POR CENTRO ===\n",
      "                                                    count   mean\n",
      "CENTRO                                                          \n",
      "E.T.S.I. GEODESICA, CARTOGRAFICA Y TOP.                 8  27.66\n",
      "E.T.S. DE INGENIERÍA DE EDIFICACIÓN                     8  26.41\n",
      "E. POLITÉCNICA SUPERIOR DE ALCOY                       43  20.47\n",
      "E.T.S.I. CAMINOS, CANALES Y PUERTOS                    26  20.29\n",
      "ESCUELA POLITECNICA SUPERIOR DE GANDIA                 37  17.79\n",
      "FACULTAD DE ADMINISTRACIÓN Y DIRECCIÓN DE EMPRESAS     23  16.68\n",
      "UNIDAD DE MÁSTERES UNIVERSITARIOS                     107  15.16\n",
      "E.T.S.I. AGRONÓMICA Y DEL MEDIO NATURAL                38  13.96\n",
      "E.T.S.I. INDUSTRIALES                                  49  12.24\n",
      "E.T.S. DE ARQUITECTURA                                 20  10.64\n",
      "E.T.S.I. DE TELECOMUNICACIÓN                           23  10.16\n",
      "E.T.S. DE INGENIERÍA INFORMÁTICA                       16   8.96\n",
      "FACULTAD DE BELLAS ARTES                               16   8.92\n",
      "E.T.S. DE INGENIERIA DEL DISEÑO                        30   8.30\n",
      "E.T.S. DE INGENIERIA AEROESPACIAL Y DISEÑO INDU...     11   7.03\n"
     ]
    }
   ],
   "source": [
    "# Análisis final del panel de datos\n",
    "print(\"=== RESUMEN DEL PANEL DE DATOS ===\")\n",
    "print(f\"Total de observaciones: {len(panel_abandono)}\")\n",
    "print(f\"Total de titulaciones únicas: {panel_abandono['TITULACION'].nunique()}\")\n",
    "print(f\"Total de centros únicos: {panel_abandono['CENTRO'].nunique()}\")\n",
    "print(f\"Años cubiertos: {sorted(panel_abandono['año'].unique())}\")\n",
    "\n",
    "print(f\"\\n=== ESTADÍSTICAS DE TASA DE ABANDONO ===\")\n",
    "print(f\"Tasa promedio de abandono: {panel_abandono['tasa_abandono'].mean():.2f}%\")\n",
    "print(f\"Mediana de tasa de abandono: {panel_abandono['tasa_abandono'].median():.2f}%\")\n",
    "print(f\"Mínima: {panel_abandono['tasa_abandono'].min():.2f}%\")\n",
    "print(f\"Máxima: {panel_abandono['tasa_abandono'].max():.2f}%\")\n",
    "print(f\"Desviación estándar: {panel_abandono['tasa_abandono'].std():.2f}%\")\n",
    "\n",
    "print(f\"\\n=== COBERTURA DE DATOS ===\")\n",
    "coverage = panel_abandono.groupby('año').agg({\n",
    "    'tasa_abandono': ['count', 'mean', 'min', 'max']\n",
    "}).round(2)\n",
    "print(coverage)\n",
    "\n",
    "print(f\"\\n=== DISTRIBUCIÓN POR CENTRO ===\")\n",
    "center_stats = panel_abandono.groupby('CENTRO')['tasa_abandono'].agg(['count', 'mean']).round(2).sort_values('mean', ascending=False)\n",
    "print(center_stats)"
   ]
  },
  {
   "cell_type": "code",
   "execution_count": 20,
   "id": "af7d5431",
   "metadata": {},
   "outputs": [
    {
     "name": "stdout",
     "output_type": "stream",
     "text": [
      "✅ Dataset guardado como 'panel_abandono_UPV.csv'\n",
      "Ubicación: ../panel_abandono_UPV.csv\n",
      "\n",
      "Dimensiones: (455, 7)\n",
      "Columnas: ['CURSO', 'COD_RUCT', 'TITULACION', 'CENTRO', 'tasa_abandono', 'año', 'tasa_permanencia']\n"
     ]
    }
   ],
   "source": [
    "# Guardar el dataset final\n",
    "panel_abandono.to_csv('../panel_abandono_UPV.csv', index=False, encoding='utf-8')\n",
    "print(f\"✅ Dataset guardado como 'panel_abandono_UPV.csv'\")\n",
    "print(f\"Ubicación: ../panel_abandono_UPV.csv\")\n",
    "print(f\"\\nDimensiones: {panel_abandono.shape}\")\n",
    "print(f\"Columnas: {list(panel_abandono.columns)}\")"
   ]
  },
  {
   "cell_type": "markdown",
   "id": "df58816d",
   "metadata": {},
   "source": [
    "## ✅ Conclusiones del Merge\n",
    "\n",
    "### Dataset Final Creado\n",
    "- **Panel unificado de tasa de abandono** de todas las titulaciones de la UPV (2021-2024)\n",
    "- **Múltiples observaciones** con información sobre:\n",
    "  - Código RUCT y nombre de titulación\n",
    "  - Centro donde se imparte\n",
    "  - Tasa de abandono anual (en porcentaje)\n",
    "  - Tasa de permanencia calculada\n",
    "\n",
    "### Estructura del Dataset Final\n",
    "El archivo `panel_abandono_UPV.csv` contiene:\n",
    "- **CURSO**: Curso académico (2020-21, 2021-22, etc.)\n",
    "- **COD_RUCT**: Código RUCT de la titulación\n",
    "- **TITULACION**: Nombre de la titulación\n",
    "- **CENTRO**: Centro donde se imparte\n",
    "- **tasa_abandono**: Porcentaje de estudiantes que abandonan (0-100)\n",
    "- **año**: Año numérico para análisis\n",
    "- **tasa_permanencia**: Porcentaje de estudiantes que permanecen (100 - abandono)\n",
    "\n",
    "### Hallazgos Principales\n",
    "- **Tasa promedio de abandono**: Aproximadamente X%\n",
    "- **Rango de tasas**: Desde X% a Y%\n",
    "- **Variabilidad por centro**: Diferentes centros tienen diferentes patrones de abandono\n",
    "- **Tendencias temporales**: Análisis año a año del comportamiento del abandono\n",
    "\n",
    "### Posibles Análisis Futuros\n",
    "- Evolución temporal de la tasa de abandono\n",
    "- Comparación entre centros y titulaciones\n",
    "- Identificación de carreras/centros con mayor/menor abandono\n",
    "- Relación entre tasa de abandono y satisfacción de estudiantes\n",
    "- Análisis de tendencias y cambios significativos"
   ]
  }
 ],
 "metadata": {
  "kernelspec": {
   "display_name": ".venv",
   "language": "python",
   "name": "python3"
  },
  "language_info": {
   "codemirror_mode": {
    "name": "ipython",
    "version": 3
   },
   "file_extension": ".py",
   "mimetype": "text/x-python",
   "name": "python",
   "nbconvert_exporter": "python",
   "pygments_lexer": "ipython3",
   "version": "3.12.3"
  }
 },
 "nbformat": 4,
 "nbformat_minor": 5
}
